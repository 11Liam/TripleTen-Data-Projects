{
 "cells": [
  {
   "cell_type": "markdown",
   "metadata": {},
   "source": []
  },
  {
   "cell_type": "markdown",
   "metadata": {},
   "source": [
    "# Overview"
   ]
  },
  {
   "cell_type": "markdown",
   "metadata": {},
   "source": [
    "In this project we will reivew the historical data on game sales from various platforms. \n",
    "\n",
    "First, we will prepare the data and fix any necessary changes to create an accurate data base. This includes, replacing the columns names to lower case, convert data to the required types, fix missing and/or duplicated values, and lastly calculating the total sales for each game. \n",
    "\n",
    "Second, we will analyze the data through various EDA concepts and create visuals of our data that will help us draw conclusions later on. \n",
    "\n",
    "Next, we will test the hpothesis of average user ratings from platforms and game genres. \n",
    "\n",
    "Lastly, we will draw conclusions of our analysis and hypotheiss testing. "
   ]
  },
  {
   "cell_type": "markdown",
   "metadata": {},
   "source": [
    "# Initialization"
   ]
  },
  {
   "cell_type": "code",
   "execution_count": 1,
   "metadata": {},
   "outputs": [],
   "source": [
    "#Loading all the libraries.\n",
    "\n",
    "import numpy as np\n",
    "\n",
    "import pandas as pd\n",
    "\n",
    "import matplotlib.pyplot as plt\n",
    "\n",
    "import seaborn as sns\n",
    "\n",
    "from scipy import stats\n",
    "\n",
    "from scipy.stats import ttest_ind"
   ]
  },
  {
   "cell_type": "markdown",
   "metadata": {},
   "source": [
    "# Loading Data"
   ]
  },
  {
   "cell_type": "code",
   "execution_count": 2,
   "metadata": {},
   "outputs": [],
   "source": [
    "games = pd.read_csv('/datasets/games.csv')"
   ]
  },
  {
   "cell_type": "markdown",
   "metadata": {},
   "source": [
    "# Preparing Data"
   ]
  },
  {
   "cell_type": "code",
   "execution_count": 3,
   "metadata": {},
   "outputs": [
    {
     "name": "stdout",
     "output_type": "stream",
     "text": [
      "                                name platform  year_of_release         genre  \\\n",
      "0                         Wii Sports      Wii           2006.0        Sports   \n",
      "1                  Super Mario Bros.      NES           1985.0      Platform   \n",
      "2                     Mario Kart Wii      Wii           2008.0        Racing   \n",
      "3                  Wii Sports Resort      Wii           2009.0        Sports   \n",
      "4           Pokemon Red/Pokemon Blue       GB           1996.0  Role-Playing   \n",
      "...                              ...      ...              ...           ...   \n",
      "16710  Samurai Warriors: Sanada Maru      PS3           2016.0        Action   \n",
      "16711               LMA Manager 2007     X360           2006.0        Sports   \n",
      "16712        Haitaka no Psychedelica      PSV           2016.0     Adventure   \n",
      "16713               Spirits & Spells      GBA           2003.0      Platform   \n",
      "16714            Winning Post 8 2016      PSV           2016.0    Simulation   \n",
      "\n",
      "       na_sales  eu_sales  jp_sales  other_sales  critic_score user_score  \\\n",
      "0         41.36     28.96      3.77         8.45          76.0          8   \n",
      "1         29.08      3.58      6.81         0.77           NaN        NaN   \n",
      "2         15.68     12.76      3.79         3.29          82.0        8.3   \n",
      "3         15.61     10.93      3.28         2.95          80.0          8   \n",
      "4         11.27      8.89     10.22         1.00           NaN        NaN   \n",
      "...         ...       ...       ...          ...           ...        ...   \n",
      "16710      0.00      0.00      0.01         0.00           NaN        NaN   \n",
      "16711      0.00      0.01      0.00         0.00           NaN        NaN   \n",
      "16712      0.00      0.00      0.01         0.00           NaN        NaN   \n",
      "16713      0.01      0.00      0.00         0.00           NaN        NaN   \n",
      "16714      0.00      0.00      0.01         0.00           NaN        NaN   \n",
      "\n",
      "      rating  \n",
      "0          E  \n",
      "1        NaN  \n",
      "2          E  \n",
      "3          E  \n",
      "4        NaN  \n",
      "...      ...  \n",
      "16710    NaN  \n",
      "16711    NaN  \n",
      "16712    NaN  \n",
      "16713    NaN  \n",
      "16714    NaN  \n",
      "\n",
      "[16715 rows x 11 columns]\n"
     ]
    }
   ],
   "source": [
    "#Replace column names to lower case.\n",
    "\n",
    "games.columns = games.columns.str.lower()\n",
    "\n",
    "print(games)"
   ]
  },
  {
   "cell_type": "markdown",
   "metadata": {},
   "source": [
    "##### Fixing Data Types"
   ]
  },
  {
   "cell_type": "code",
   "execution_count": 4,
   "metadata": {},
   "outputs": [
    {
     "name": "stdout",
     "output_type": "stream",
     "text": [
      "<class 'pandas.core.frame.DataFrame'>\n",
      "RangeIndex: 16715 entries, 0 to 16714\n",
      "Data columns (total 11 columns):\n",
      " #   Column           Non-Null Count  Dtype  \n",
      "---  ------           --------------  -----  \n",
      " 0   name             16713 non-null  object \n",
      " 1   platform         16715 non-null  object \n",
      " 2   year_of_release  16446 non-null  float64\n",
      " 3   genre            16713 non-null  object \n",
      " 4   na_sales         16715 non-null  float64\n",
      " 5   eu_sales         16715 non-null  float64\n",
      " 6   jp_sales         16715 non-null  float64\n",
      " 7   other_sales      16715 non-null  float64\n",
      " 8   critic_score     8137 non-null   float64\n",
      " 9   user_score       10014 non-null  object \n",
      " 10  rating           9949 non-null   object \n",
      "dtypes: float64(6), object(5)\n",
      "memory usage: 1.4+ MB\n"
     ]
    }
   ],
   "source": [
    "#Show the data types of each column\n",
    "\n",
    "games.info()\n"
   ]
  },
  {
   "cell_type": "code",
   "execution_count": 5,
   "metadata": {},
   "outputs": [
    {
     "name": "stdout",
     "output_type": "stream",
     "text": [
      "<bound method NDFrame._add_numeric_operations.<locals>.sum of         name  platform  year_of_release  genre  na_sales  eu_sales  jp_sales  \\\n",
      "0      False     False            False  False     False     False     False   \n",
      "1      False     False            False  False     False     False     False   \n",
      "2      False     False            False  False     False     False     False   \n",
      "3      False     False            False  False     False     False     False   \n",
      "4      False     False            False  False     False     False     False   \n",
      "...      ...       ...              ...    ...       ...       ...       ...   \n",
      "16710  False     False            False  False     False     False     False   \n",
      "16711  False     False            False  False     False     False     False   \n",
      "16712  False     False            False  False     False     False     False   \n",
      "16713  False     False            False  False     False     False     False   \n",
      "16714  False     False            False  False     False     False     False   \n",
      "\n",
      "       other_sales  critic_score  user_score  rating  \n",
      "0            False         False       False   False  \n",
      "1            False          True        True    True  \n",
      "2            False         False       False   False  \n",
      "3            False         False       False   False  \n",
      "4            False          True        True    True  \n",
      "...            ...           ...         ...     ...  \n",
      "16710        False          True        True    True  \n",
      "16711        False          True        True    True  \n",
      "16712        False          True        True    True  \n",
      "16713        False          True        True    True  \n",
      "16714        False          True        True    True  \n",
      "\n",
      "[16715 rows x 11 columns]>\n"
     ]
    }
   ],
   "source": [
    "#Check for missing data.\n",
    "\n",
    "print(games.isnull().sum)"
   ]
  },
  {
   "cell_type": "markdown",
   "metadata": {},
   "source": [
    "##### Fixing Column Data: critic_score\n",
    "\n",
    "In the critic_score we filled the missing values with the median of the entire column. The median is a be better choice becuase it has less influenced by extreme values.\n"
   ]
  },
  {
   "cell_type": "code",
   "execution_count": 6,
   "metadata": {},
   "outputs": [
    {
     "name": "stdout",
     "output_type": "stream",
     "text": [
      "Missing values imputed successfully. 8578 values were filled.\n"
     ]
    }
   ],
   "source": [
    "# Count missing values before imputation\n",
    "missing_values_before = games['critic_score'].isnull().sum()\n",
    "\n",
    "# Fill missing values in 'critic_score' with the mean of the column\n",
    "games['critic_score'].fillna(games['critic_score'].mean(), inplace=True)\n",
    "\n",
    "#Count missing values after imputation\n",
    "missing_values_after = games['critic_score'].isnull().sum()\n",
    "\n",
    "#Check if all missing values were handled\n",
    "if missing_values_after == 0:\n",
    "    print(f\"Missing values imputed successfully. {missing_values_before} values were filled.\")\n",
    "else:\n",
    "    print(f\"Some missing values remain. Initially: {missing_values_before}, Remaining: {missing_values_after}.\")"
   ]
  },
  {
   "cell_type": "markdown",
   "metadata": {},
   "source": [
    "##### Fixing Column Data: user_score\n",
    "\n",
    "The data type in the column, \"user_score\" was change from object to float64.\n",
    "\n",
    "The column had a mix of numerical and categorical data. We had to replace the \"tbd\" that was found in the column to \"NaN\". \n",
    "From there we were able to switch the data type to float64.\n",
    "\n",
    "##### Missing data explanation:\n",
    "\n",
    "In the user_score we filled the missing values with the median of the entire column. The median is a be better choice becuase it may has less influenced by extreme values."
   ]
  },
  {
   "cell_type": "code",
   "execution_count": 7,
   "metadata": {},
   "outputs": [],
   "source": [
    "# Replace 'tbd' with NaN in user_score column.\n",
    "\n",
    "games['user_score'] = games['user_score'].replace('tbd', np.NaN)\n",
    "\n",
    "# Convert column to float\n",
    "\n",
    "games['user_score'] = games['user_score'].astype(float)\n"
   ]
  },
  {
   "cell_type": "code",
   "execution_count": 8,
   "metadata": {},
   "outputs": [
    {
     "name": "stdout",
     "output_type": "stream",
     "text": [
      "All rows with missing values were removed.\n"
     ]
    }
   ],
   "source": [
    "#Count missing values before deletion\n",
    "\n",
    "user_values = games['user_score'].isnull().sum()\n",
    "\n",
    "#Drop rows with missing values in the 'user_score' column\n",
    "\n",
    "games.dropna(subset=['user_score'], inplace=True)\n",
    "\n",
    "#Count missing values after deletion\n",
    "\n",
    "user_values = games['user_score'].isnull().sum()\n",
    "\n",
    "# Check if all missing values were removed\n",
    "\n",
    "if user_values== 0:\n",
    "    \n",
    "    print(\"All rows with missing values were removed.\")\n",
    "    \n",
    "else:\n",
    "    \n",
    "    print(f\"Remaining missing values decreased from {initial_missing} to {final_missing}.\")\n"
   ]
  },
  {
   "cell_type": "markdown",
   "metadata": {},
   "source": [
    "##### Fixing Column Data: rating\n",
    "\n",
    "In the rating column, we filled the missing data with \"Unknown\" value placeholder. We used \"Unknwon\" beacause the data type is categorical and there wasnt any further informaiton to provide for the missing game rating.  "
   ]
  },
  {
   "cell_type": "code",
   "execution_count": 9,
   "metadata": {},
   "outputs": [],
   "source": [
    "#Fill missing values with \"Unknown\". \n",
    "\n",
    "games['rating'].fillna(\"Unknown\", inplace=True)"
   ]
  },
  {
   "cell_type": "markdown",
   "metadata": {},
   "source": [
    "##### Final check for missing data in columns."
   ]
  },
  {
   "cell_type": "code",
   "execution_count": 10,
   "metadata": {},
   "outputs": [
    {
     "name": "stdout",
     "output_type": "stream",
     "text": [
      "<bound method NDFrame._add_numeric_operations.<locals>.sum of         name  platform  year_of_release  genre  na_sales  eu_sales  jp_sales  \\\n",
      "0      False     False            False  False     False     False     False   \n",
      "2      False     False            False  False     False     False     False   \n",
      "3      False     False            False  False     False     False     False   \n",
      "6      False     False            False  False     False     False     False   \n",
      "7      False     False            False  False     False     False     False   \n",
      "...      ...       ...              ...    ...       ...       ...       ...   \n",
      "16681  False     False            False  False     False     False     False   \n",
      "16692  False     False            False  False     False     False     False   \n",
      "16696  False     False            False  False     False     False     False   \n",
      "16702  False     False            False  False     False     False     False   \n",
      "16705  False     False            False  False     False     False     False   \n",
      "\n",
      "       other_sales  critic_score  user_score  rating  \n",
      "0            False         False       False   False  \n",
      "2            False         False       False   False  \n",
      "3            False         False       False   False  \n",
      "6            False         False       False   False  \n",
      "7            False         False       False   False  \n",
      "...            ...           ...         ...     ...  \n",
      "16681        False         False       False   False  \n",
      "16692        False         False       False   False  \n",
      "16696        False         False       False   False  \n",
      "16702        False         False       False   False  \n",
      "16705        False         False       False   False  \n",
      "\n",
      "[7590 rows x 11 columns]>\n"
     ]
    }
   ],
   "source": [
    "#Checking for missing data.\n",
    "\n",
    "print(games.isnull().sum)"
   ]
  },
  {
   "cell_type": "markdown",
   "metadata": {},
   "source": [
    "##### Total sales for each game"
   ]
  },
  {
   "cell_type": "code",
   "execution_count": 11,
   "metadata": {},
   "outputs": [
    {
     "name": "stdout",
     "output_type": "stream",
     "text": [
      "                                    name platform  year_of_release      genre  \\\n",
      "0                             Wii Sports      Wii           2006.0     Sports   \n",
      "2                         Mario Kart Wii      Wii           2008.0     Racing   \n",
      "3                      Wii Sports Resort      Wii           2009.0     Sports   \n",
      "6                  New Super Mario Bros.       DS           2006.0   Platform   \n",
      "7                               Wii Play      Wii           2006.0       Misc   \n",
      "...                                  ...      ...              ...        ...   \n",
      "16681                            Worms 2       PC           1997.0   Strategy   \n",
      "16692  Metal Gear Solid V: Ground Zeroes       PC           2014.0     Action   \n",
      "16696                             Breach       PC           2011.0    Shooter   \n",
      "16702            STORM: Frontline Nation       PC           2011.0   Strategy   \n",
      "16705                            15 Days       PC           2009.0  Adventure   \n",
      "\n",
      "       na_sales  eu_sales  jp_sales  other_sales  critic_score  user_score  \\\n",
      "0         41.36     28.96      3.77         8.45     76.000000         8.0   \n",
      "2         15.68     12.76      3.79         3.29     82.000000         8.3   \n",
      "3         15.61     10.93      3.28         2.95     80.000000         8.0   \n",
      "6         11.28      9.14      6.50         2.88     89.000000         8.5   \n",
      "7         13.96      9.18      2.93         2.84     58.000000         6.6   \n",
      "...         ...       ...       ...          ...           ...         ...   \n",
      "16681      0.00      0.01      0.00         0.00     68.967679         8.1   \n",
      "16692      0.00      0.01      0.00         0.00     80.000000         7.6   \n",
      "16696      0.01      0.00      0.00         0.00     61.000000         5.8   \n",
      "16702      0.00      0.01      0.00         0.00     60.000000         7.2   \n",
      "16705      0.00      0.01      0.00         0.00     63.000000         5.8   \n",
      "\n",
      "        rating  total_sales  \n",
      "0            E        74.09  \n",
      "2            E        32.23  \n",
      "3            E        29.82  \n",
      "6            E        26.92  \n",
      "7            E        26.07  \n",
      "...        ...          ...  \n",
      "16681      K-A         0.01  \n",
      "16692        M         0.01  \n",
      "16696        T         0.01  \n",
      "16702     E10+         0.01  \n",
      "16705  Unknown         0.01  \n",
      "\n",
      "[7590 rows x 12 columns]\n"
     ]
    }
   ],
   "source": [
    "#Calculate total sales per game across the three columns.\n",
    "\n",
    "games['total_sales'] = games[['na_sales', 'eu_sales', 'jp_sales']].sum(axis=1)\n",
    "\n",
    "#Display the DataFrame with Total Sales.\n",
    "\n",
    "print(games)"
   ]
  },
  {
   "cell_type": "markdown",
   "metadata": {},
   "source": [
    "##### Checking for duplicates:"
   ]
  },
  {
   "cell_type": "code",
   "execution_count": 12,
   "metadata": {},
   "outputs": [
    {
     "name": "stdout",
     "output_type": "stream",
     "text": [
      "Number of duplicate rows: 0\n"
     ]
    }
   ],
   "source": [
    "# Check for duplicates in the entire DataFrame\n",
    "\n",
    "duplicates = games.duplicated()\n",
    "\n",
    "# Count the number of duplicate rows\n",
    "\n",
    "num_duplicates = duplicates.sum()\n",
    "\n",
    "print(f\"Number of duplicate rows: {num_duplicates}\")"
   ]
  },
  {
   "cell_type": "markdown",
   "metadata": {},
   "source": [
    "##### Conclusion: "
   ]
  },
  {
   "cell_type": "markdown",
   "metadata": {},
   "source": [
    "After assessing the data, we were able to delete any missing values in the data set and replace any incorrect values in object data types. In addition, we were able to calcualte the total sales for each game and double check to make sure data values were not missing. Next we will further analyze the data set to have a deeper look into the sales generated."
   ]
  },
  {
   "cell_type": "markdown",
   "metadata": {},
   "source": [
    "# Analyze Data"
   ]
  },
  {
   "cell_type": "code",
   "execution_count": 13,
   "metadata": {},
   "outputs": [
    {
     "name": "stdout",
     "output_type": "stream",
     "text": [
      "    release_year  number_of_games\n",
      "0         1985.0                1\n",
      "1         1988.0                1\n",
      "2         1992.0                1\n",
      "3         1994.0                1\n",
      "4         1996.0                8\n",
      "5         1997.0               18\n",
      "6         1998.0               31\n",
      "7         1999.0               31\n",
      "8         2000.0              107\n",
      "9         2001.0              257\n",
      "10        2002.0              464\n",
      "11        2003.0              516\n",
      "12        2004.0              489\n",
      "13        2005.0              583\n",
      "14        2006.0              552\n",
      "15        2007.0              629\n",
      "16        2008.0              661\n",
      "17        2009.0              614\n",
      "18        2010.0              467\n",
      "19        2011.0              501\n",
      "20        2012.0              339\n",
      "21        2013.0              304\n",
      "22        2014.0              329\n",
      "23        2015.0              297\n",
      "24        2016.0              262\n"
     ]
    }
   ],
   "source": [
    "#The number of games released for each year. \n",
    "\n",
    "games_per_year = games.groupby('year_of_release')['name'].count().reset_index()\n",
    "\n",
    "# Rename columns for clarity\n",
    "\n",
    "games_per_year.columns = ['release_year', 'number_of_games']\n",
    "\n",
    "# Display the result\n",
    "\n",
    "print(games_per_year)"
   ]
  },
  {
   "cell_type": "markdown",
   "metadata": {},
   "source": [
    "##### Bar Chart for games released each year."
   ]
  },
  {
   "cell_type": "code",
   "execution_count": 14,
   "metadata": {},
   "outputs": [
    {
     "data": {
      "image/png": "[encoded data removed]",
      "text/plain": [
       "<Figure size 1200x600 with 1 Axes>"
      ]
     },
     "metadata": {},
     "output_type": "display_data"
    }
   ],
   "source": [
    "#Create the bar chart\n",
    "\n",
    "plt.figure(figsize=(12, 6)) \n",
    "\n",
    "plt.bar(games_per_year['release_year'], games_per_year['number_of_games'], color='skyblue', edgecolor='black')\n",
    "\n",
    "# Add titles and labels\n",
    "plt.title('Number of Games Released Per Year', fontsize=16)\n",
    "\n",
    "plt.xlabel('Release Year', fontsize=12)\n",
    "\n",
    "plt.ylabel('Number of Games', fontsize=12)\n",
    "\n",
    "# Rotate x-axis labels for better readability\n",
    "\n",
    "plt.xticks(rotation=45)\n",
    "\n",
    "# Display the chart\n",
    "\n",
    "plt.tight_layout()\n",
    "\n",
    "plt.show()"
   ]
  },
  {
   "cell_type": "markdown",
   "metadata": {},
   "source": [
    "Above we have a table that shows the year and the number of games released for that year. Year after year we can see the numer of games released increase exponentially. This may be due to the dot com in the early two thousands and the release of newer technology. "
   ]
  },
  {
   "cell_type": "markdown",
   "metadata": {},
   "source": [
    "##### Total sales per platform"
   ]
  },
  {
   "cell_type": "code",
   "execution_count": 15,
   "metadata": {},
   "outputs": [
    {
     "name": "stdout",
     "output_type": "stream",
     "text": [
      "   platform  total_sales\n",
      "1        DC         4.49\n",
      "11      PSV        29.41\n",
      "13     WiiU        62.32\n",
      "0       3DS       119.35\n",
      "16     XOne       122.24\n",
      "3       GBA       134.89\n",
      "4        GC       157.51\n",
      "10      PSP       164.80\n",
      "5        PC       187.12\n",
      "6        PS       203.78\n",
      "9       PS4       206.89\n",
      "15       XB       210.43\n",
      "2        DS       381.49\n",
      "12      Wii       645.88\n",
      "8       PS3       714.49\n",
      "14     X360       819.21\n",
      "7       PS2       843.59\n"
     ]
    }
   ],
   "source": [
    "#Calculate total sales per platform\n",
    "\n",
    "total_sales_per_platform = games.groupby('platform')['total_sales'].sum().reset_index()\n",
    "\n",
    "# Sort by total sales in ascending order\n",
    "\n",
    "total_sales_per_platform = total_sales_per_platform.sort_values(by='total_sales', ascending=True)\n",
    "\n",
    "# Display the platforms with greatest total sales\n",
    "\n",
    "print(total_sales_per_platform)"
   ]
  },
  {
   "cell_type": "markdown",
   "metadata": {},
   "source": [
    "##### Sales distribution per year."
   ]
  },
  {
   "cell_type": "code",
   "execution_count": 16,
   "metadata": {},
   "outputs": [
    {
     "data": {
      "image/png": "[encoded data removed]",
      "text/plain": [
       "<Figure size 1000x600 with 1 Axes>"
      ]
     },
     "metadata": {},
     "output_type": "display_data"
    }
   ],
   "source": [
    "#Group by 'Release_Year' and 'Platform' to get total sales for each platform per year\n",
    "\n",
    "sales_by_year_platform = games.groupby(['year_of_release', 'platform'])['total_sales'].sum().unstack()\n",
    "\n",
    "#Plot the sales distribution by year\n",
    "\n",
    "sales_by_year_platform.plot(kind='bar', stacked=True, figsize=(10, 6))\n",
    "\n",
    "plt.title('Sales Distribution by Platform Over the Years')\n",
    "\n",
    "plt.xlabel('Year')\n",
    "\n",
    "plt.ylabel('Total Sales (millions)')\n",
    "\n",
    "plt.xticks(rotation=45)\n",
    "\n",
    "plt.legend(title='Platform', bbox_to_anchor=(1.05, 1), loc='upper left')\n",
    "\n",
    "plt.show()"
   ]
  },
  {
   "cell_type": "markdown",
   "metadata": {},
   "source": [
    "##### Platforms with zero sales"
   ]
  },
  {
   "cell_type": "code",
   "execution_count": 17,
   "metadata": {},
   "outputs": [
    {
     "name": "stdout",
     "output_type": "stream",
     "text": [
      "Platforms with zero sales in the latest year: []\n"
     ]
    }
   ],
   "source": [
    "#Get platforms that have zero sales in the most recent year\n",
    "\n",
    "latest_year = games['year_of_release'].max()\n",
    "\n",
    "platforms_with_zero_sales = sales_by_year_platform.loc[latest_year]\n",
    "\n",
    "#Find platforms that have zero sales in the latest year\n",
    "\n",
    "zero_sales_platforms = platforms_with_zero_sales[platforms_with_zero_sales == 0].index.tolist()\n",
    "\n",
    "#Print platforms that had zero sales in the latest year\n",
    "\n",
    "print(\"Platforms with zero sales in the latest year:\", zero_sales_platforms)"
   ]
  },
  {
   "cell_type": "markdown",
   "metadata": {},
   "source": [
    "##### Platform lifespan."
   ]
  },
  {
   "cell_type": "code",
   "execution_count": 18,
   "metadata": {},
   "outputs": [
    {
     "name": "stdout",
     "output_type": "stream",
     "text": [
      "             min     max  Lifespan\n",
      "platform                          \n",
      "3DS       2011.0  2016.0       5.0\n",
      "DC        1999.0  2001.0       2.0\n",
      "DS        2004.0  2013.0       9.0\n",
      "GBA       2001.0  2006.0       5.0\n",
      "GC        2001.0  2007.0       6.0\n",
      "PC        1985.0  2016.0      31.0\n",
      "PS        1994.0  2002.0       8.0\n",
      "PS2       2000.0  2011.0      11.0\n",
      "PS3       2006.0  2016.0      10.0\n",
      "PS4       2013.0  2016.0       3.0\n",
      "PSP       2004.0  2013.0       9.0\n",
      "PSV       2011.0  2016.0       5.0\n",
      "Wii       2006.0  2014.0       8.0\n",
      "WiiU      2012.0  2016.0       4.0\n",
      "X360      2005.0  2016.0      11.0\n",
      "XB        2000.0  2008.0       8.0\n",
      "XOne      2013.0  2016.0       3.0\n"
     ]
    }
   ],
   "source": [
    "#Find the first and last year of sales for each platform\n",
    "\n",
    "platform_lifespans = games.groupby('platform')['year_of_release'].agg(['min', 'max'])\n",
    "\n",
    "#Calculate the duration of each platform's lifespan\n",
    "\n",
    "platform_lifespans['Lifespan'] = platform_lifespans['max'] - platform_lifespans['min']\n",
    "\n",
    "#Average lifespan \n",
    "\n",
    "print(platform_lifespans[['min', 'max', 'Lifespan']])"
   ]
  },
  {
   "cell_type": "markdown",
   "metadata": {},
   "source": [
    "##### Filtering data from 2013 and later"
   ]
  },
  {
   "cell_type": "code",
   "execution_count": 19,
   "metadata": {},
   "outputs": [],
   "source": [
    "#Filtered the DataFrame to include only data from the year 2013 and later\n",
    "\n",
    "games_filtered = games[games['year_of_release'] >= 2013]"
   ]
  },
  {
   "cell_type": "markdown",
   "metadata": {},
   "source": [
    "##### Platforms leading in sales from 2013 and later."
   ]
  },
  {
   "cell_type": "code",
   "execution_count": 20,
   "metadata": {},
   "outputs": [
    {
     "name": "stdout",
     "output_type": "stream",
     "text": [
      "Sales in the Millions\n",
      "Platforms leading in sales (2013 and later):\n",
      "    platform  total_sales\n",
      "5       PSP         0.30\n",
      "1        DS         0.35\n",
      "7       Wii         9.65\n",
      "6       PSV        14.84\n",
      "2        PC        32.37\n",
      "0       3DS        40.82\n",
      "8      WiiU        48.54\n",
      "9      X360       105.91\n",
      "10     XOne       122.24\n",
      "3       PS3       128.80\n",
      "4       PS4       206.89\n"
     ]
    }
   ],
   "source": [
    "#Calculate total sales per platform from 2013 and later\n",
    "\n",
    "platform_sales_filtered = games_filtered.groupby('platform')['total_sales'].sum().reset_index()\n",
    "\n",
    "#Sort by total sales in descending order\n",
    "\n",
    "platform_sales_filtered = platform_sales_filtered.sort_values(by='total_sales', ascending=True)\n",
    "\n",
    "#Display the platforms leading in sales (from 2000 onwards)\n",
    "\n",
    "print(\"Sales in the Millions\")\n",
    "\n",
    "print(\"Platforms leading in sales (2013 and later):\\n\", platform_sales_filtered)"
   ]
  },
  {
   "cell_type": "markdown",
   "metadata": {},
   "source": [
    "##### Growing and shrinking platforms from 2013 and later: "
   ]
  },
  {
   "cell_type": "code",
   "execution_count": 21,
   "metadata": {},
   "outputs": [
    {
     "name": "stdout",
     "output_type": "stream",
     "text": [
      "Sales by Platform per Year:\n",
      " platform           3DS    DS     PC    PS3    PS4  PSP   PSV   Wii   WiiU  \\\n",
      "year_of_release                                                             \n",
      "2013.0           15.35  0.35   9.98  87.30  21.36  0.3  5.40  7.29  16.43   \n",
      "2014.0           12.72   NaN  10.98  30.56  68.14  NaN  5.76  2.36  14.78   \n",
      "2015.0           10.54   NaN   6.86   9.54  68.53  NaN  2.65   NaN  14.30   \n",
      "2016.0            2.21   NaN   4.55   1.40  48.86  NaN  1.03   NaN   3.03   \n",
      "\n",
      "platform          X360   XOne  \n",
      "year_of_release                \n",
      "2013.0           68.77  16.81  \n",
      "2014.0           28.51  42.91  \n",
      "2015.0            7.54  40.73  \n",
      "2016.0            1.09  21.79  \n"
     ]
    }
   ],
   "source": [
    "#Group by platform and release year to get total sales per platform per year (2013 and later)\n",
    "\n",
    "sales_by_year_platform = games_filtered.groupby(['year_of_release', 'platform'])['total_sales'].sum().unstack()\n",
    "\n",
    "#Display the total sales by platform per year\n",
    "\n",
    "print(\"Sales by Platform per Year:\\n\", sales_by_year_platform)"
   ]
  },
  {
   "cell_type": "markdown",
   "metadata": {},
   "source": []
  },
  {
   "cell_type": "code",
   "execution_count": 22,
   "metadata": {},
   "outputs": [
    {
     "data": {
      "image/png": "[encoded data removed]",
      "text/plain": [
       "<Figure size 1500x800 with 1 Axes>"
      ]
     },
     "metadata": {},
     "output_type": "display_data"
    }
   ],
   "source": [
    "#Filter data for years >= 2013\n",
    "\n",
    "games_filtered = games[games['year_of_release'] >= 2013]\n",
    "\n",
    "#Set the size of the plot\n",
    "\n",
    "plt.figure(figsize=(15, 8))\n",
    "\n",
    "#Create a box plot for global sales by platform\n",
    "\n",
    "sns.boxplot(x='platform', y='total_sales', data=games_filtered)\n",
    "\n",
    "#Set plot title and labels\n",
    "\n",
    "plt.title('Distribution of Global Sales by Platform')\n",
    "\n",
    "plt.xlabel('Platform')\n",
    "\n",
    "plt.ylabel('Global Sales (in millions)')\n",
    "\n",
    "plt.ylim(0, 20)\n",
    "\n",
    "# Set y-axis ticks in increments of 0.5\n",
    "\n",
    "y_ticks = np.arange(0, 3, 0.5)  # Adjust the range as needed\n",
    "\n",
    "plt.yticks(y_ticks)\n",
    "\n",
    "#Show the plot\n",
    "\n",
    "plt.xticks(rotation=45)\n",
    "\n",
    "plt.show()"
   ]
  },
  {
   "cell_type": "markdown",
   "metadata": {},
   "source": [
    "There is a significant differnece in sales from in the first ten platforms listed on the x-axis compared to the last ten. The global sales drops off from 20 million to 10 million from the start of \"PSP\" platform on the x-axis to the end at \"WS\". "
   ]
  },
  {
   "cell_type": "markdown",
   "metadata": {},
   "source": [
    "##### Average sales on platforms from 2013 to later."
   ]
  },
  {
   "cell_type": "code",
   "execution_count": 23,
   "metadata": {},
   "outputs": [
    {
     "name": "stdout",
     "output_type": "stream",
     "text": [
      "Average sales per platform (2000 and later):\n",
      "    platform  average_sales\n",
      "0       3DS       0.510250\n",
      "1        DS       0.350000\n",
      "2        PC       0.208839\n",
      "3       PS3       0.692473\n",
      "4       PS4       0.805019\n",
      "5       PSP       0.150000\n",
      "6       PSV       0.149899\n",
      "7       Wii       1.378571\n",
      "8      WiiU       0.606750\n",
      "9      X360       0.740629\n",
      "10     XOne       0.671648\n"
     ]
    }
   ],
   "source": [
    "#Filter the DataFrame to include only data from the year 2013 and later\n",
    "\n",
    "games_filtered = games[games['year_of_release'] >= 2013]\n",
    "\n",
    "#Calculate the average sales per platform from 2013 and later\n",
    "\n",
    "average_sales_per_platform = games_filtered.groupby('platform')['total_sales'].mean().reset_index()\n",
    "\n",
    "#Rename columns for clarity\n",
    "\n",
    "average_sales_per_platform.columns = ['platform', 'average_sales']\n",
    "\n",
    "#Display the result\n",
    "\n",
    "print(\"Average sales per platform (2000 and later):\\n\", average_sales_per_platform)"
   ]
  },
  {
   "cell_type": "markdown",
   "metadata": {},
   "source": [
    "##### Impact of reviews and sales. "
   ]
  },
  {
   "cell_type": "code",
   "execution_count": 24,
   "metadata": {},
   "outputs": [
    {
     "name": "stdout",
     "output_type": "stream",
     "text": [
      "           genre      mean  median\n",
      "10        Sports  0.734714   0.330\n",
      "3           Misc  0.909157   0.310\n",
      "4       Platform  0.827150   0.310\n",
      "2       Fighting  0.574536   0.300\n",
      "8        Shooter  0.815346   0.280\n",
      "9     Simulation  0.588750   0.255\n",
      "0         Action  0.616306   0.250\n",
      "6         Racing  0.672278   0.230\n",
      "7   Role-Playing  0.629300   0.230\n",
      "5         Puzzle  0.576562   0.130\n",
      "1      Adventure  0.288967   0.120\n",
      "11      Strategy  0.232733   0.080\n"
     ]
    }
   ],
   "source": [
    "#The mean and median total sales for each genre\n",
    "\n",
    "genre_sales_Wii = games.groupby('genre')['total_sales'].agg(['mean', 'median']).reset_index()\n",
    "\n",
    "#Genres by median sales\n",
    "\n",
    "genre_sales_Wii = genre_sales_Wii.sort_values(by='median', ascending=False)\n",
    "\n",
    "print(genre_sales_Wii)"
   ]
  },
  {
   "cell_type": "code",
   "execution_count": 25,
   "metadata": {},
   "outputs": [
    {
     "name": "stdout",
     "output_type": "stream",
     "text": [
      "           genre  user_score_corr  critic_score_corr\n",
      "0         Action         0.228781           0.444851\n",
      "1      Adventure         0.025642           0.338966\n",
      "2       Fighting         0.291154           0.425829\n",
      "3           Misc         0.111463           0.034977\n",
      "4       Platform         0.274071           0.429413\n",
      "5         Puzzle         0.155304           0.376845\n",
      "6         Racing         0.217376           0.271131\n",
      "7   Role-Playing         0.133468           0.289281\n",
      "8        Shooter         0.062557           0.309658\n",
      "9     Simulation        -0.020159           0.120848\n",
      "10        Sports         0.128866           0.158559\n",
      "11      Strategy         0.341417           0.594750\n"
     ]
    },
    {
     "data": {
      "image/png": "[encoded data removed]",
      "text/plain": [
       "<Figure size 800x800 with 1 Axes>"
      ]
     },
     "metadata": {},
     "output_type": "display_data"
    }
   ],
   "source": [
    "#Group data by genre and calculate total sales for each genre\n",
    "\n",
    "games_Wii = games[games['platform'] == 'Wii']\n",
    "\n",
    "genre_sales_Wii_total = games_Wii.groupby('genre')['total_sales'].sum().reset_index()\n",
    "\n",
    "#Sort genres by total sales in descending order and keep the top 6\n",
    "\n",
    "top_6_genres = genre_sales_Wii_total.sort_values(by='total_sales', ascending=False).head(6)\n",
    "\n",
    "#Pie chart for the top 6 genres\n",
    "\n",
    "plt.figure(figsize=(8, 8))\n",
    "\n",
    "plt.pie(top_6_genres['total_sales'], labels=top_6_genres['genre'], autopct='%1.1f%%', \n",
    "        \n",
    "        colors=['gold', 'lightblue', 'lightgreen', 'salmon', 'pink', 'lightcoral'], \n",
    "        \n",
    "        startangle=90, explode=[0.1 if i == 0 else 0 for i in range(len(top_6_genres))])\n",
    "\n",
    "plt.title('Top 6 Sales Distribution by Genre (Wii)', fontsize=16)\n",
    "\n",
    "#Group data by genre and calculate the correlation for each genre\n",
    "\n",
    "genre_correlations = games_Wii.groupby('genre').apply(\n",
    "    \n",
    "    lambda x: pd.Series({\n",
    "        \n",
    "        'user_score_corr': x['user_score'].corr(x['total_sales']),\n",
    "        \n",
    "        'critic_score_corr': x['critic_score'].corr(x['total_sales'])\n",
    "    })\n",
    ").reset_index()\n",
    "\n",
    "# Display the correlation results for each genre\n",
    "\n",
    "print(genre_correlations)\n",
    "\n",
    "# Display the chart\n",
    "\n",
    "plt.show()"
   ]
  },
  {
   "cell_type": "markdown",
   "metadata": {},
   "source": [
    "##### Creating user profile for the following groups: NA, EU, JP"
   ]
  },
  {
   "cell_type": "code",
   "execution_count": 26,
   "metadata": {},
   "outputs": [
    {
     "name": "stdout",
     "output_type": "stream",
     "text": [
      "Top 5 Platforms in North America:\n",
      "           na_sales  NA_Market_Share\n",
      "platform                           \n",
      "X360        561.75        19.693666\n",
      "PS2         496.02        17.389323\n",
      "Wii         377.24        13.225169\n",
      "PS3         361.72        12.681073\n",
      "DS          192.91         6.762982\n",
      "\n",
      "Top 5 Platforms in Europe:\n",
      "           eu_sales  EU_Market_Share\n",
      "platform                           \n",
      "PS3         293.40        17.188653\n",
      "PS2         269.96        15.815436\n",
      "X360        247.26        14.485571\n",
      "Wii         215.88        12.647193\n",
      "PC          114.94         6.733687\n",
      "\n",
      "Top 5 Platforms in Japan:\n",
      "           jp_sales  JP_Market_Share\n",
      "platform                           \n",
      "DS           83.67        18.655102\n",
      "PS2          77.61        17.303962\n",
      "PS3          59.37        13.237163\n",
      "Wii          52.76        11.763394\n",
      "PS           40.53         9.036588\n",
      "Top 5 Genres Globally:\n",
      "               total_sales  na_sales  eu_sales  jp_sales\n",
      "genre                                                  \n",
      "Action            1127.84    633.73    414.83     79.28\n",
      "Sports             810.39    501.01    272.62     36.76\n",
      "Shooter            753.38    463.00    271.24     19.14\n",
      "Role-Playing       467.57    222.13    120.59    124.85\n",
      "Racing             430.93    233.03    169.29     28.61\n",
      "\n",
      "Top 5 Genres with Global Market Share:\n",
      "               total_sales  na_sales  eu_sales  jp_sales  Global_Sales_Share\n",
      "genre                                                                      \n",
      "Action            1127.84    633.73    414.83     79.28             1127.84\n",
      "Sports             810.39    501.01    272.62     36.76              810.39\n",
      "Shooter            753.38    463.00    271.24     19.14              753.38\n",
      "Role-Playing       467.57    222.13    120.59    124.85              467.57\n",
      "Racing             430.93    233.03    169.29     28.61              430.93\n"
     ]
    }
   ],
   "source": [
    "#Aggregate sales by platform for each region\n",
    "\n",
    "platform_sales_by_region = games.groupby('platform')[['na_sales', 'eu_sales', 'jp_sales']].sum()\n",
    "\n",
    "#Calculate market shares for each region\n",
    "\n",
    "platform_sales_by_region['NA_Market_Share'] = (\n",
    "    platform_sales_by_region['na_sales'] / platform_sales_by_region['na_sales'].sum() * 100\n",
    ")\n",
    "platform_sales_by_region['EU_Market_Share'] = (\n",
    "    platform_sales_by_region['eu_sales'] / platform_sales_by_region['eu_sales'].sum() * 100\n",
    ")\n",
    "platform_sales_by_region['JP_Market_Share'] = (\n",
    "    platform_sales_by_region['jp_sales'] / platform_sales_by_region['jp_sales'].sum() * 100\n",
    ")\n",
    "\n",
    "#Find the top 5 platforms in each region\n",
    "\n",
    "top_5_na = platform_sales_by_region.sort_values('na_sales', ascending=False).head(5)\n",
    "\n",
    "top_5_eu = platform_sales_by_region.sort_values('eu_sales', ascending=False).head(5)\n",
    "\n",
    "top_5_jp = platform_sales_by_region.sort_values('jp_sales', ascending=False).head(5)\n",
    "\n",
    "#Results\n",
    "\n",
    "print(\"Top 5 Platforms in North America:\\n\", top_5_na[['na_sales', 'NA_Market_Share']])\n",
    "\n",
    "print(\"\\nTop 5 Platforms in Europe:\\n\", top_5_eu[['eu_sales', 'EU_Market_Share']])\n",
    "\n",
    "print(\"\\nTop 5 Platforms in Japan:\\n\", top_5_jp[['jp_sales', 'JP_Market_Share']])\n",
    "\n",
    "#Aggregate total sales by genre\n",
    "\n",
    "genre_sales = games.groupby('genre')[['total_sales', 'na_sales', 'eu_sales', 'jp_sales']].sum()\n",
    "\n",
    "#Sort genres by global sales and find the top five\n",
    "\n",
    "top_5_genres = genre_sales.sort_values('total_sales', ascending=False).head(5)\n",
    "\n",
    "# Display the results\n",
    "\n",
    "print(\"Top 5 Genres Globally:\\n\", top_5_genres)\n",
    "\n",
    "# Optional: Add percentage of total sales for each genre\n",
    "\n",
    "genre_sales['total_sales'] = (\n",
    "    genre_sales['total_sales'] / genre_sales['total_sales'].sum() * 100\n",
    ")\n",
    "\n",
    "# Display top 5 genres with market share\n",
    "\n",
    "print(\"\\nTop 5 Genres with Global Market Share:\\n\", \n",
    "      top_5_genres.assign(Global_Sales_Share=top_5_genres['total_sales']))"
   ]
  },
  {
   "cell_type": "code",
   "execution_count": 27,
   "metadata": {},
   "outputs": [
    {
     "data": {
      "image/png": "[encoded data removed]",
      "text/plain": [
       "<Figure size 1800x600 with 3 Axes>"
      ]
     },
     "metadata": {},
     "output_type": "display_data"
    }
   ],
   "source": [
    "#Set the figure size for the bar charts\n",
    "\n",
    "plt.figure(figsize=(18, 6))\n",
    "\n",
    "#Bar chart for NA Market Share (North America)\n",
    "\n",
    "plt.subplot(1, 3, 1)\n",
    "\n",
    "sns.barplot(x=top_5_na.index, y=top_5_na['NA_Market_Share'], palette='Blues_d')\n",
    "\n",
    "plt.title('Top 5 Platforms in North America - Market Share')\n",
    "\n",
    "plt.xlabel('Platform')\n",
    "\n",
    "plt.ylabel('Market Share (%)')\n",
    "\n",
    "# Bar chart for EU Market Share (Europe)\n",
    "\n",
    "plt.subplot(1, 3, 2)\n",
    "\n",
    "sns.barplot(x=top_5_eu.index, y=top_5_eu['EU_Market_Share'], palette='Greens_d')\n",
    "\n",
    "plt.title('Top 5 Platforms in Europe - Market Share')\n",
    "\n",
    "plt.xlabel('Platform')\n",
    "\n",
    "plt.ylabel('Market Share (%)')\n",
    "\n",
    "# Bar chart for JP Market Share (Japan)\n",
    "\n",
    "plt.subplot(1, 3, 3)\n",
    "\n",
    "sns.barplot(x=top_5_jp.index, y=top_5_jp['JP_Market_Share'], palette='Oranges_d')\n",
    "\n",
    "plt.title('Top 5 Platforms in Japan - Market Share')\n",
    "\n",
    "plt.xlabel('Platform')\n",
    "\n",
    "plt.ylabel('Market Share (%)')\n",
    "\n",
    "# Adjust layout and display\n",
    "\n",
    "plt.tight_layout()\n",
    "\n",
    "plt.show()"
   ]
  },
  {
   "cell_type": "markdown",
   "metadata": {},
   "source": [
    "##### Testing the hypothesis."
   ]
  },
  {
   "cell_type": "markdown",
   "metadata": {},
   "source": [
    "#### Average User Ratings for Xbox One and PC\n",
    "\n",
    "###### Null Hypothesis:\n",
    "\n",
    "The average user ratings for Xbox One and PC platforms are the same.\n",
    "\n",
    "- We assume that there’s no significant difference unless the data provides strong evidence otherwise.\n",
    "\n",
    "###### Alternative Hypothesis: \n",
    "\n",
    "The average user ratings for Xbox One and PC platforms are different.\n",
    "\n",
    "- Rejecting the null suggests that platform choice impacts user satisfaction."
   ]
  },
  {
   "cell_type": "code",
   "execution_count": 28,
   "metadata": {},
   "outputs": [
    {
     "name": "stdout",
     "output_type": "stream",
     "text": [
      "T-test Results:\n",
      "T-statistic: -4.653422798410771\n",
      "P-value: 4.935072360183574e-06\n"
     ]
    }
   ],
   "source": [
    "#Filter data for Xbox One and PC platforms\n",
    "\n",
    "XOne_ratings = games[games['platform'] == 'XOne']['user_score'].dropna()\n",
    "\n",
    "PC_ratings = games[games['platform'] == 'PC']['user_score'].dropna()\n",
    "\n",
    "# Perform the t-test\n",
    "\n",
    "t_stat, p_value = ttest_ind(XOne_ratings, PC_ratings, equal_var=False)\n",
    "\n",
    "# Print the results\n",
    "\n",
    "print(\"T-test Results:\")\n",
    "\n",
    "print(f\"T-statistic: {t_stat}\")\n",
    "\n",
    "print(f\"P-value: {p_value}\")"
   ]
  },
  {
   "cell_type": "markdown",
   "metadata": {},
   "source": [
    "Based on the p-value being significantly smaller than 0.05, we reject the null hypothesis.\n",
    "\n",
    "This means there is a statistically significant difference between the average user ratings for Xbox One and PC."
   ]
  },
  {
   "cell_type": "markdown",
   "metadata": {},
   "source": [
    "#####  Average User Ratings for Action and Sports Genres\n",
    "\n",
    "###### Null Hypothesis: \n",
    "\n",
    "The average user ratings for Action and Sports genres are the same.\n",
    "\n",
    "- We assume there is no difference between the two groups unless the data provides strong evidence otherwise.\n",
    "\n",
    "###### Alternative Hypothesis: \n",
    "\n",
    "The average user ratings for Action and Sports genres are different\n",
    "\n",
    "- If we reject the null means there is significant evidence that the ratings for these genres differ."
   ]
  },
  {
   "cell_type": "code",
   "execution_count": 29,
   "metadata": {},
   "outputs": [
    {
     "name": "stdout",
     "output_type": "stream",
     "text": [
      "T-test Results:\n",
      "T-statistic: 1.57746791633354\n",
      "P-value: 0.11483818791498286\n"
     ]
    }
   ],
   "source": [
    "# Filter data for 'Action' and 'Sports' genres\n",
    "\n",
    "action_ratings = games[games['genre'] == 'Action']['user_score'].dropna()\n",
    "\n",
    "sports_ratings = games[games['genre'] == 'Sports']['user_score'].dropna()\n",
    "\n",
    "#Perform the t-test\n",
    "\n",
    "t_stat, p_value = ttest_ind(action_ratings, sports_ratings, equal_var=False)\n",
    "\n",
    "#Print the results\n",
    "\n",
    "print(\"T-test Results:\")\n",
    "\n",
    "print(f\"T-statistic: {t_stat}\")\n",
    "\n",
    "print(f\"P-value: {p_value}\")"
   ]
  },
  {
   "cell_type": "markdown",
   "metadata": {},
   "source": [
    "Based on the p-value being much greater than 0.05, there is no statistically significant difference between the average user ratings for the Action and Sports genres.\n",
    "\n",
    "We fail to reject the null hypothesis, which means the average ratings for Action and Sports genres are statistically similar."
   ]
  },
  {
   "cell_type": "markdown",
   "metadata": {},
   "source": [
    "### Final Observations"
   ]
  },
  {
   "cell_type": "markdown",
   "metadata": {},
   "source": [
    "Based on the project objectives we were able to accomplish the following: \n",
    "    \n",
    "1. Prepare the data:\n",
    "\n",
    "- We were able to make the correct changes to create an accurate data base. \n",
    "\n",
    "- Fix any missing values with explanations as to why they are missing. \n",
    "\n",
    "- Calculate the total sales for each game. \n",
    "\n",
    "- Checked for dupicate data values. \n",
    "\n",
    "2. Analyze the data: \n",
    "\n",
    "- We took a deep dive into the platforms and found which ones had the greatest sales. \n",
    "\n",
    "- Built box plots to visually display the data and give a detailed insight about our analysis. \n",
    "\n",
    "- We also saw trends of how reviews affected the sales of of a popular platform. \n",
    "\n",
    "- Added pie charts to visually show the trend betwen genres for the Wii gaming platform. \n",
    "\n",
    "3. Created a profile for the three regions (NA, EU, JP): \n",
    "\n",
    "- Calculated the top five platforms for each region. \n",
    "\n",
    "- Calculated the top five genres for each region. \n",
    "\n",
    "- Added three bar charts that visually showed the data values. \n",
    "\n",
    "4. Hypothesis Testing:\n",
    "\n",
    "- Tested a hypothesis for the relaitonship between the average user ratings of the Xbox One and PC platforms are the same. \n",
    "\n",
    "- Tested the hypothesis for the relationship between the average user ratings for the Action and Sports genres are different.\n",
    "        \n",
    "This report is beneficial for anyone who is in the gaming industry and wants to udnerstand more about the global sales of a variety of games. In addition, the report will give a insight on the different gaming genres and the trends the vary from different gaming platforms year over year. "
   ]
  },
  {
   "cell_type": "markdown",
   "metadata": {},
   "source": []
  }
 ],
 "metadata": {
  "ExecuteTimeLog": [
   {
    "duration": 292,
    "start_time": "2024-11-08T13:45:21.492Z"
   },
   {
    "duration": 171,
    "start_time": "2024-11-08T13:45:30.267Z"
   },
   {
    "duration": 4,
    "start_time": "2024-11-08T13:45:50.551Z"
   },
   {
    "duration": 351,
    "start_time": "2024-11-08T13:53:08.528Z"
   },
   {
    "duration": 35,
    "start_time": "2024-11-08T13:53:33.472Z"
   },
   {
    "duration": 22,
    "start_time": "2024-11-08T13:53:36.854Z"
   },
   {
    "duration": 13,
    "start_time": "2024-11-08T13:53:41.908Z"
   },
   {
    "duration": 12,
    "start_time": "2024-11-08T13:54:54.566Z"
   },
   {
    "duration": 157,
    "start_time": "2024-11-09T19:11:36.704Z"
   },
   {
    "duration": 321,
    "start_time": "2024-11-09T19:11:42.051Z"
   },
   {
    "duration": 34,
    "start_time": "2024-11-09T19:11:43.704Z"
   },
   {
    "duration": 12,
    "start_time": "2024-11-09T19:14:28.142Z"
   },
   {
    "duration": 17,
    "start_time": "2024-11-09T19:16:51.242Z"
   },
   {
    "duration": 17,
    "start_time": "2024-11-09T19:17:01.132Z"
   },
   {
    "duration": 10,
    "start_time": "2024-11-09T19:17:12.656Z"
   },
   {
    "duration": 11,
    "start_time": "2024-11-09T19:17:18.002Z"
   },
   {
    "duration": 10,
    "start_time": "2024-11-09T19:23:21.731Z"
   },
   {
    "duration": 36,
    "start_time": "2024-11-09T19:35:52.400Z"
   },
   {
    "duration": 10,
    "start_time": "2024-11-09T19:36:17.138Z"
   },
   {
    "duration": 2,
    "start_time": "2024-11-09T19:37:32.490Z"
   },
   {
    "duration": 2,
    "start_time": "2024-11-09T19:39:56.736Z"
   },
   {
    "duration": 2,
    "start_time": "2024-11-09T19:40:13.220Z"
   },
   {
    "duration": 3,
    "start_time": "2024-11-09T19:40:20.795Z"
   },
   {
    "duration": 4,
    "start_time": "2024-11-09T19:41:06.879Z"
   },
   {
    "duration": 4,
    "start_time": "2024-11-09T19:41:09.821Z"
   },
   {
    "duration": 10,
    "start_time": "2024-11-09T19:50:22.961Z"
   },
   {
    "duration": 14,
    "start_time": "2024-11-09T19:51:01.951Z"
   },
   {
    "duration": 4,
    "start_time": "2024-11-09T19:51:14.331Z"
   },
   {
    "duration": 5,
    "start_time": "2024-11-09T19:52:25.223Z"
   },
   {
    "duration": 462,
    "start_time": "2024-11-09T20:03:23.191Z"
   },
   {
    "duration": 386,
    "start_time": "2024-11-09T20:08:43.391Z"
   },
   {
    "duration": 55,
    "start_time": "2024-11-09T20:09:15.365Z"
   },
   {
    "duration": 10,
    "start_time": "2024-11-09T20:14:13.223Z"
   },
   {
    "duration": 6,
    "start_time": "2024-11-09T20:17:13.486Z"
   },
   {
    "duration": 3,
    "start_time": "2024-11-09T20:17:16.012Z"
   },
   {
    "duration": 7,
    "start_time": "2024-11-09T20:23:39.330Z"
   },
   {
    "duration": 15,
    "start_time": "2024-11-09T20:28:42.492Z"
   },
   {
    "duration": 7,
    "start_time": "2024-11-09T20:29:09.333Z"
   },
   {
    "duration": 3,
    "start_time": "2024-11-09T20:29:20.433Z"
   },
   {
    "duration": 24,
    "start_time": "2024-11-09T20:30:05.270Z"
   },
   {
    "duration": 11,
    "start_time": "2024-11-09T20:30:15.063Z"
   },
   {
    "duration": 9,
    "start_time": "2024-11-09T20:30:42.673Z"
   },
   {
    "duration": 3,
    "start_time": "2024-11-09T20:55:10.906Z"
   },
   {
    "duration": 4,
    "start_time": "2024-11-09T21:24:59.260Z"
   },
   {
    "duration": 4,
    "start_time": "2024-11-09T21:33:28.881Z"
   },
   {
    "duration": 394,
    "start_time": "2024-11-09T21:35:32.836Z"
   },
   {
    "duration": 13,
    "start_time": "2024-11-09T21:36:26.863Z"
   },
   {
    "duration": 13,
    "start_time": "2024-11-09T21:36:45.241Z"
   },
   {
    "duration": 25,
    "start_time": "2024-11-09T21:37:04.637Z"
   },
   {
    "duration": 12,
    "start_time": "2024-11-09T21:37:16.805Z"
   },
   {
    "duration": 8,
    "start_time": "2024-11-09T21:54:21.109Z"
   },
   {
    "duration": 89,
    "start_time": "2024-11-09T21:57:54.140Z"
   },
   {
    "duration": 8,
    "start_time": "2024-11-09T21:58:19.853Z"
   },
   {
    "duration": 8,
    "start_time": "2024-11-09T21:58:42.009Z"
   },
   {
    "duration": 8,
    "start_time": "2024-11-09T21:58:48.226Z"
   },
   {
    "duration": 7,
    "start_time": "2024-11-09T21:58:56.902Z"
   },
   {
    "duration": 22,
    "start_time": "2024-11-09T22:10:20.291Z"
   },
   {
    "duration": 8,
    "start_time": "2024-11-09T22:10:26.083Z"
   },
   {
    "duration": 9,
    "start_time": "2024-11-09T22:17:22.811Z"
   },
   {
    "duration": 8,
    "start_time": "2024-11-09T22:17:54.562Z"
   },
   {
    "duration": 9,
    "start_time": "2024-11-09T22:21:01.166Z"
   },
   {
    "duration": 158,
    "start_time": "2024-11-09T22:21:36.929Z"
   },
   {
    "duration": 44,
    "start_time": "2024-11-09T22:21:48.511Z"
   },
   {
    "duration": 1872,
    "start_time": "2024-11-09T22:23:07.692Z"
   },
   {
    "duration": 1767,
    "start_time": "2024-11-09T22:23:37.052Z"
   },
   {
    "duration": 12,
    "start_time": "2024-11-09T22:31:45.594Z"
   },
   {
    "duration": 5,
    "start_time": "2024-11-09T22:32:01.003Z"
   },
   {
    "duration": 4,
    "start_time": "2024-11-09T22:32:13.404Z"
   },
   {
    "duration": 7,
    "start_time": "2024-11-09T22:32:17.006Z"
   },
   {
    "duration": 5,
    "start_time": "2024-11-09T22:32:21.135Z"
   },
   {
    "duration": 11,
    "start_time": "2024-11-09T22:33:17.603Z"
   },
   {
    "duration": 24,
    "start_time": "2024-11-09T22:38:53.792Z"
   },
   {
    "duration": 11,
    "start_time": "2024-11-09T22:41:17.587Z"
   },
   {
    "duration": 576,
    "start_time": "2024-11-09T22:51:27.824Z"
   },
   {
    "duration": 5,
    "start_time": "2024-11-09T22:51:51.402Z"
   },
   {
    "duration": 9,
    "start_time": "2024-11-09T22:54:25.997Z"
   },
   {
    "duration": 9,
    "start_time": "2024-11-09T22:54:51.539Z"
   },
   {
    "duration": 12,
    "start_time": "2024-11-09T23:00:47.960Z"
   },
   {
    "duration": 23,
    "start_time": "2024-11-09T23:05:21.206Z"
   },
   {
    "duration": 18,
    "start_time": "2024-11-09T23:05:49.772Z"
   },
   {
    "duration": 4,
    "start_time": "2024-11-09T23:06:20.132Z"
   },
   {
    "duration": 5,
    "start_time": "2024-11-09T23:06:51.366Z"
   },
   {
    "duration": 48,
    "start_time": "2024-11-09T23:09:06.495Z"
   },
   {
    "duration": 10,
    "start_time": "2024-11-09T23:09:16.533Z"
   },
   {
    "duration": 162,
    "start_time": "2024-11-10T00:24:38.245Z"
   },
   {
    "duration": 12,
    "start_time": "2024-11-10T00:24:44.662Z"
   },
   {
    "duration": 12,
    "start_time": "2024-11-10T00:24:46.743Z"
   },
   {
    "duration": 15,
    "start_time": "2024-11-10T00:24:50.212Z"
   },
   {
    "duration": 12,
    "start_time": "2024-11-10T00:24:55.654Z"
   },
   {
    "duration": 2635,
    "start_time": "2024-11-10T00:24:58.547Z"
   },
   {
    "duration": 854,
    "start_time": "2024-11-10T00:25:07.185Z"
   },
   {
    "duration": 36,
    "start_time": "2024-11-10T00:25:08.043Z"
   },
   {
    "duration": 11,
    "start_time": "2024-11-10T00:25:08.081Z"
   },
   {
    "duration": 11,
    "start_time": "2024-11-10T00:25:08.094Z"
   },
   {
    "duration": 9,
    "start_time": "2024-11-10T00:25:08.107Z"
   },
   {
    "duration": 20,
    "start_time": "2024-11-10T00:25:08.118Z"
   },
   {
    "duration": 6,
    "start_time": "2024-11-10T00:25:08.140Z"
   },
   {
    "duration": 6,
    "start_time": "2024-11-10T00:25:08.148Z"
   },
   {
    "duration": 4,
    "start_time": "2024-11-10T00:25:08.155Z"
   },
   {
    "duration": 9,
    "start_time": "2024-11-10T00:25:08.161Z"
   },
   {
    "duration": 12,
    "start_time": "2024-11-10T00:25:08.172Z"
   },
   {
    "duration": 50,
    "start_time": "2024-11-10T00:25:08.185Z"
   },
   {
    "duration": 8,
    "start_time": "2024-11-10T00:25:08.237Z"
   },
   {
    "duration": 1721,
    "start_time": "2024-11-10T00:25:08.247Z"
   },
   {
    "duration": 6,
    "start_time": "2024-11-10T00:25:09.970Z"
   },
   {
    "duration": 11,
    "start_time": "2024-11-10T00:25:09.977Z"
   },
   {
    "duration": 4,
    "start_time": "2024-11-10T00:25:09.990Z"
   },
   {
    "duration": 8,
    "start_time": "2024-11-10T00:25:09.995Z"
   },
   {
    "duration": 38,
    "start_time": "2024-11-10T00:25:10.005Z"
   },
   {
    "duration": 6,
    "start_time": "2024-11-10T00:26:32.067Z"
   },
   {
    "duration": 7,
    "start_time": "2024-11-10T00:26:34.756Z"
   },
   {
    "duration": 17,
    "start_time": "2024-11-10T00:26:44.661Z"
   },
   {
    "duration": 309,
    "start_time": "2024-11-10T00:29:39.036Z"
   },
   {
    "duration": 11,
    "start_time": "2024-11-10T00:42:42.505Z"
   },
   {
    "duration": 710,
    "start_time": "2024-11-10T00:43:29.645Z"
   },
   {
    "duration": 10,
    "start_time": "2024-11-10T00:43:36.328Z"
   },
   {
    "duration": 266,
    "start_time": "2024-11-10T00:56:26.445Z"
   },
   {
    "duration": 351,
    "start_time": "2024-11-10T00:57:08.900Z"
   },
   {
    "duration": 376,
    "start_time": "2024-11-10T00:58:38.688Z"
   },
   {
    "duration": 378,
    "start_time": "2024-11-10T00:58:54.686Z"
   },
   {
    "duration": 945,
    "start_time": "2024-11-10T01:14:15.476Z"
   },
   {
    "duration": 29,
    "start_time": "2024-11-10T01:14:16.423Z"
   },
   {
    "duration": 13,
    "start_time": "2024-11-10T01:14:16.456Z"
   },
   {
    "duration": 16,
    "start_time": "2024-11-10T01:14:16.472Z"
   },
   {
    "duration": 12,
    "start_time": "2024-11-10T01:14:16.491Z"
   },
   {
    "duration": 27,
    "start_time": "2024-11-10T01:14:16.505Z"
   },
   {
    "duration": 6,
    "start_time": "2024-11-10T01:14:16.534Z"
   },
   {
    "duration": 6,
    "start_time": "2024-11-10T01:14:16.542Z"
   },
   {
    "duration": 4,
    "start_time": "2024-11-10T01:14:16.550Z"
   },
   {
    "duration": 10,
    "start_time": "2024-11-10T01:14:16.556Z"
   },
   {
    "duration": 14,
    "start_time": "2024-11-10T01:14:16.568Z"
   },
   {
    "duration": 8,
    "start_time": "2024-11-10T01:14:16.585Z"
   },
   {
    "duration": 9,
    "start_time": "2024-11-10T01:14:16.631Z"
   },
   {
    "duration": 1756,
    "start_time": "2024-11-10T01:14:16.644Z"
   },
   {
    "duration": 7,
    "start_time": "2024-11-10T01:14:18.402Z"
   },
   {
    "duration": 10,
    "start_time": "2024-11-10T01:14:18.411Z"
   },
   {
    "duration": 10,
    "start_time": "2024-11-10T01:14:18.422Z"
   },
   {
    "duration": 10,
    "start_time": "2024-11-10T01:14:18.433Z"
   },
   {
    "duration": 19,
    "start_time": "2024-11-10T01:14:18.445Z"
   },
   {
    "duration": 349,
    "start_time": "2024-11-10T01:14:18.466Z"
   },
   {
    "duration": 19,
    "start_time": "2024-11-10T01:14:18.817Z"
   },
   {
    "duration": 351,
    "start_time": "2024-11-10T01:14:18.837Z"
   },
   {
    "duration": 156,
    "start_time": "2024-11-13T00:01:08.877Z"
   },
   {
    "duration": 2835,
    "start_time": "2024-11-13T00:01:20.754Z"
   },
   {
    "duration": 36,
    "start_time": "2024-11-13T00:01:23.592Z"
   },
   {
    "duration": 11,
    "start_time": "2024-11-13T00:01:23.630Z"
   },
   {
    "duration": 12,
    "start_time": "2024-11-13T00:01:23.643Z"
   },
   {
    "duration": 12,
    "start_time": "2024-11-13T00:01:23.658Z"
   },
   {
    "duration": 6,
    "start_time": "2024-11-13T00:01:23.672Z"
   },
   {
    "duration": 28,
    "start_time": "2024-11-13T00:01:23.680Z"
   },
   {
    "duration": 7,
    "start_time": "2024-11-13T00:01:23.710Z"
   },
   {
    "duration": 4,
    "start_time": "2024-11-13T00:01:23.719Z"
   },
   {
    "duration": 13,
    "start_time": "2024-11-13T00:01:23.725Z"
   },
   {
    "duration": 14,
    "start_time": "2024-11-13T00:01:23.740Z"
   },
   {
    "duration": 8,
    "start_time": "2024-11-13T00:01:23.756Z"
   },
   {
    "duration": 40,
    "start_time": "2024-11-13T00:01:23.766Z"
   },
   {
    "duration": 1618,
    "start_time": "2024-11-13T00:01:23.808Z"
   },
   {
    "duration": 6,
    "start_time": "2024-11-13T00:01:25.428Z"
   },
   {
    "duration": 11,
    "start_time": "2024-11-13T00:01:25.435Z"
   },
   {
    "duration": 5,
    "start_time": "2024-11-13T00:01:25.447Z"
   },
   {
    "duration": 7,
    "start_time": "2024-11-13T00:01:25.454Z"
   },
   {
    "duration": 16,
    "start_time": "2024-11-13T00:01:25.463Z"
   },
   {
    "duration": 341,
    "start_time": "2024-11-13T00:01:25.481Z"
   },
   {
    "duration": 9,
    "start_time": "2024-11-13T00:01:25.824Z"
   },
   {
    "duration": 441,
    "start_time": "2024-11-13T00:01:25.834Z"
   },
   {
    "duration": 794,
    "start_time": "2024-11-13T00:03:08.595Z"
   },
   {
    "duration": 28,
    "start_time": "2024-11-13T00:03:09.391Z"
   },
   {
    "duration": 11,
    "start_time": "2024-11-13T00:03:09.421Z"
   },
   {
    "duration": 10,
    "start_time": "2024-11-13T00:03:09.433Z"
   },
   {
    "duration": 10,
    "start_time": "2024-11-13T00:03:09.445Z"
   },
   {
    "duration": 6,
    "start_time": "2024-11-13T00:03:09.456Z"
   },
   {
    "duration": 5,
    "start_time": "2024-11-13T00:03:09.463Z"
   },
   {
    "duration": 35,
    "start_time": "2024-11-13T00:03:09.470Z"
   },
   {
    "duration": 3,
    "start_time": "2024-11-13T00:03:09.507Z"
   },
   {
    "duration": 9,
    "start_time": "2024-11-13T00:03:09.511Z"
   },
   {
    "duration": 11,
    "start_time": "2024-11-13T00:03:09.521Z"
   },
   {
    "duration": 7,
    "start_time": "2024-11-13T00:03:09.534Z"
   },
   {
    "duration": 7,
    "start_time": "2024-11-13T00:03:09.543Z"
   },
   {
    "duration": 1593,
    "start_time": "2024-11-13T00:03:09.553Z"
   },
   {
    "duration": 6,
    "start_time": "2024-11-13T00:03:11.147Z"
   },
   {
    "duration": 9,
    "start_time": "2024-11-13T00:03:11.155Z"
   },
   {
    "duration": 5,
    "start_time": "2024-11-13T00:03:11.165Z"
   },
   {
    "duration": 9,
    "start_time": "2024-11-13T00:03:11.171Z"
   },
   {
    "duration": 28,
    "start_time": "2024-11-13T00:03:11.181Z"
   },
   {
    "duration": 324,
    "start_time": "2024-11-13T00:03:11.211Z"
   },
   {
    "duration": 9,
    "start_time": "2024-11-13T00:03:11.537Z"
   },
   {
    "duration": 384,
    "start_time": "2024-11-13T00:03:11.548Z"
   },
   {
    "duration": 145845,
    "start_time": "2024-11-13T00:03:11.934Z"
   },
   {
    "duration": 320,
    "start_time": "2024-11-13T00:05:38.393Z"
   },
   {
    "duration": 386,
    "start_time": "2024-11-13T00:05:46.476Z"
   },
   {
    "duration": 280,
    "start_time": "2024-11-13T00:05:55.187Z"
   },
   {
    "duration": 329,
    "start_time": "2024-11-13T00:06:04.014Z"
   },
   {
    "duration": 9,
    "start_time": "2024-11-13T00:07:10.837Z"
   },
   {
    "duration": 10,
    "start_time": "2024-11-13T00:07:34.507Z"
   },
   {
    "duration": 2527,
    "start_time": "2024-11-15T16:16:04.198Z"
   },
   {
    "duration": 37,
    "start_time": "2024-11-15T16:16:06.727Z"
   },
   {
    "duration": 13,
    "start_time": "2024-11-15T16:16:06.766Z"
   },
   {
    "duration": 11,
    "start_time": "2024-11-15T16:16:06.782Z"
   },
   {
    "duration": 10,
    "start_time": "2024-11-15T16:16:06.795Z"
   },
   {
    "duration": 5,
    "start_time": "2024-11-15T16:16:06.807Z"
   },
   {
    "duration": 6,
    "start_time": "2024-11-15T16:16:06.814Z"
   },
   {
    "duration": 5,
    "start_time": "2024-11-15T16:16:06.822Z"
   },
   {
    "duration": 41,
    "start_time": "2024-11-15T16:16:06.829Z"
   },
   {
    "duration": 10,
    "start_time": "2024-11-15T16:16:06.875Z"
   },
   {
    "duration": 13,
    "start_time": "2024-11-15T16:16:06.887Z"
   },
   {
    "duration": 8,
    "start_time": "2024-11-15T16:16:06.902Z"
   },
   {
    "duration": 8,
    "start_time": "2024-11-15T16:16:06.911Z"
   },
   {
    "duration": 1654,
    "start_time": "2024-11-15T16:16:06.920Z"
   },
   {
    "duration": 5,
    "start_time": "2024-11-15T16:16:08.576Z"
   },
   {
    "duration": 10,
    "start_time": "2024-11-15T16:16:08.583Z"
   },
   {
    "duration": 4,
    "start_time": "2024-11-15T16:16:08.594Z"
   },
   {
    "duration": 8,
    "start_time": "2024-11-15T16:16:08.600Z"
   },
   {
    "duration": 15,
    "start_time": "2024-11-15T16:16:08.610Z"
   },
   {
    "duration": 362,
    "start_time": "2024-11-15T16:16:08.627Z"
   },
   {
    "duration": 10,
    "start_time": "2024-11-15T16:16:08.991Z"
   },
   {
    "duration": 418,
    "start_time": "2024-11-15T16:16:09.003Z"
   },
   {
    "duration": 144431,
    "start_time": "2024-11-15T16:16:09.423Z"
   },
   {
    "duration": 340,
    "start_time": "2024-11-15T18:31:39.983Z"
   },
   {
    "duration": 388,
    "start_time": "2024-11-15T18:32:11.463Z"
   },
   {
    "duration": 800,
    "start_time": "2024-11-15T18:32:37.345Z"
   },
   {
    "duration": 28,
    "start_time": "2024-11-15T18:32:38.147Z"
   },
   {
    "duration": 11,
    "start_time": "2024-11-15T18:32:38.176Z"
   },
   {
    "duration": 10,
    "start_time": "2024-11-15T18:32:38.190Z"
   },
   {
    "duration": 9,
    "start_time": "2024-11-15T18:32:38.202Z"
   },
   {
    "duration": 5,
    "start_time": "2024-11-15T18:32:38.213Z"
   },
   {
    "duration": 6,
    "start_time": "2024-11-15T18:32:38.219Z"
   },
   {
    "duration": 6,
    "start_time": "2024-11-15T18:32:38.226Z"
   },
   {
    "duration": 4,
    "start_time": "2024-11-15T18:32:38.269Z"
   },
   {
    "duration": 9,
    "start_time": "2024-11-15T18:32:38.276Z"
   },
   {
    "duration": 11,
    "start_time": "2024-11-15T18:32:38.287Z"
   },
   {
    "duration": 7,
    "start_time": "2024-11-15T18:32:38.299Z"
   },
   {
    "duration": 8,
    "start_time": "2024-11-15T18:32:38.307Z"
   },
   {
    "duration": 1690,
    "start_time": "2024-11-15T18:32:38.316Z"
   },
   {
    "duration": 5,
    "start_time": "2024-11-15T18:32:40.008Z"
   },
   {
    "duration": 10,
    "start_time": "2024-11-15T18:32:40.015Z"
   },
   {
    "duration": 4,
    "start_time": "2024-11-15T18:32:40.027Z"
   },
   {
    "duration": 8,
    "start_time": "2024-11-15T18:32:40.032Z"
   },
   {
    "duration": 32,
    "start_time": "2024-11-15T18:32:40.041Z"
   },
   {
    "duration": 334,
    "start_time": "2024-11-15T18:32:40.074Z"
   },
   {
    "duration": 9,
    "start_time": "2024-11-15T18:32:40.410Z"
   },
   {
    "duration": 375,
    "start_time": "2024-11-15T18:32:40.421Z"
   },
   {
    "duration": 505,
    "start_time": "2024-11-15T18:32:40.798Z"
   },
   {
    "duration": 23,
    "start_time": "2024-11-15T18:32:55.939Z"
   },
   {
    "duration": 22,
    "start_time": "2024-11-15T18:46:19.774Z"
   },
   {
    "duration": 115,
    "start_time": "2024-11-15T18:47:14.936Z"
   },
   {
    "duration": 22,
    "start_time": "2024-11-15T18:49:03.871Z"
   },
   {
    "duration": 16,
    "start_time": "2024-11-15T19:16:53.580Z"
   },
   {
    "duration": 125,
    "start_time": "2024-11-15T19:17:13.030Z"
   },
   {
    "duration": 15,
    "start_time": "2024-11-15T19:17:19.966Z"
   },
   {
    "duration": 31,
    "start_time": "2024-11-15T19:37:38.405Z"
   },
   {
    "duration": 29,
    "start_time": "2024-11-15T19:38:18.500Z"
   },
   {
    "duration": 797,
    "start_time": "2024-11-15T19:38:52.627Z"
   },
   {
    "duration": 24,
    "start_time": "2024-11-15T19:38:53.427Z"
   },
   {
    "duration": 18,
    "start_time": "2024-11-15T19:38:53.452Z"
   },
   {
    "duration": 10,
    "start_time": "2024-11-15T19:38:53.473Z"
   },
   {
    "duration": 8,
    "start_time": "2024-11-15T19:38:53.485Z"
   },
   {
    "duration": 5,
    "start_time": "2024-11-15T19:38:53.495Z"
   },
   {
    "duration": 5,
    "start_time": "2024-11-15T19:38:53.502Z"
   },
   {
    "duration": 5,
    "start_time": "2024-11-15T19:38:53.509Z"
   },
   {
    "duration": 3,
    "start_time": "2024-11-15T19:38:53.515Z"
   },
   {
    "duration": 8,
    "start_time": "2024-11-15T19:38:53.521Z"
   },
   {
    "duration": 12,
    "start_time": "2024-11-15T19:38:53.570Z"
   },
   {
    "duration": 7,
    "start_time": "2024-11-15T19:38:53.583Z"
   },
   {
    "duration": 8,
    "start_time": "2024-11-15T19:38:53.591Z"
   },
   {
    "duration": 1697,
    "start_time": "2024-11-15T19:38:53.601Z"
   },
   {
    "duration": 6,
    "start_time": "2024-11-15T19:38:55.300Z"
   },
   {
    "duration": 10,
    "start_time": "2024-11-15T19:38:55.307Z"
   },
   {
    "duration": 4,
    "start_time": "2024-11-15T19:38:55.318Z"
   },
   {
    "duration": 7,
    "start_time": "2024-11-15T19:38:55.324Z"
   },
   {
    "duration": 16,
    "start_time": "2024-11-15T19:38:55.333Z"
   },
   {
    "duration": 336,
    "start_time": "2024-11-15T19:38:55.350Z"
   },
   {
    "duration": 9,
    "start_time": "2024-11-15T19:38:55.687Z"
   },
   {
    "duration": 373,
    "start_time": "2024-11-15T19:38:55.698Z"
   },
   {
    "duration": 22,
    "start_time": "2024-11-15T19:38:56.073Z"
   },
   {
    "duration": 156,
    "start_time": "2024-11-15T19:38:56.097Z"
   },
   {
    "duration": 32,
    "start_time": "2024-11-15T19:39:20.499Z"
   },
   {
    "duration": 14,
    "start_time": "2024-11-15T19:39:31.489Z"
   },
   {
    "duration": 118,
    "start_time": "2024-11-15T20:09:25.376Z"
   },
   {
    "duration": 490,
    "start_time": "2024-11-15T20:09:34.525Z"
   },
   {
    "duration": 21,
    "start_time": "2024-11-15T20:13:40.165Z"
   },
   {
    "duration": 2508,
    "start_time": "2024-11-16T18:08:23.051Z"
   },
   {
    "duration": 38,
    "start_time": "2024-11-16T18:08:25.561Z"
   },
   {
    "duration": 11,
    "start_time": "2024-11-16T18:08:25.600Z"
   },
   {
    "duration": 11,
    "start_time": "2024-11-16T18:08:25.613Z"
   },
   {
    "duration": 9,
    "start_time": "2024-11-16T18:08:25.627Z"
   },
   {
    "duration": 5,
    "start_time": "2024-11-16T18:08:25.637Z"
   },
   {
    "duration": 5,
    "start_time": "2024-11-16T18:08:25.644Z"
   },
   {
    "duration": 5,
    "start_time": "2024-11-16T18:08:25.650Z"
   },
   {
    "duration": 3,
    "start_time": "2024-11-16T18:08:25.657Z"
   },
   {
    "duration": 8,
    "start_time": "2024-11-16T18:08:25.662Z"
   },
   {
    "duration": 10,
    "start_time": "2024-11-16T18:08:25.671Z"
   },
   {
    "duration": 7,
    "start_time": "2024-11-16T18:08:25.723Z"
   },
   {
    "duration": 8,
    "start_time": "2024-11-16T18:08:25.732Z"
   },
   {
    "duration": 1530,
    "start_time": "2024-11-16T18:08:25.742Z"
   },
   {
    "duration": 5,
    "start_time": "2024-11-16T18:08:27.274Z"
   },
   {
    "duration": 10,
    "start_time": "2024-11-16T18:08:27.280Z"
   },
   {
    "duration": 4,
    "start_time": "2024-11-16T18:08:27.292Z"
   },
   {
    "duration": 6,
    "start_time": "2024-11-16T18:08:27.299Z"
   },
   {
    "duration": 28,
    "start_time": "2024-11-16T18:08:27.307Z"
   },
   {
    "duration": 349,
    "start_time": "2024-11-16T18:08:27.336Z"
   },
   {
    "duration": 8,
    "start_time": "2024-11-16T18:08:27.688Z"
   },
   {
    "duration": 474,
    "start_time": "2024-11-16T18:08:27.699Z"
   },
   {
    "duration": 25,
    "start_time": "2024-11-16T18:08:28.175Z"
   },
   {
    "duration": 34,
    "start_time": "2024-11-16T18:08:28.202Z"
   },
   {
    "duration": 217,
    "start_time": "2024-11-16T18:44:28.629Z"
   },
   {
    "duration": 3,
    "start_time": "2024-11-16T18:44:52.450Z"
   },
   {
    "duration": 97,
    "start_time": "2024-11-16T18:44:58.598Z"
   },
   {
    "duration": 3,
    "start_time": "2024-11-16T18:46:27.572Z"
   },
   {
    "duration": 16,
    "start_time": "2024-11-16T18:50:24.897Z"
   },
   {
    "duration": 8,
    "start_time": "2024-11-16T18:50:40.099Z"
   },
   {
    "duration": 7,
    "start_time": "2024-11-16T18:52:43.934Z"
   },
   {
    "duration": 9,
    "start_time": "2024-11-16T18:53:56.815Z"
   },
   {
    "duration": 8,
    "start_time": "2024-11-16T18:54:02.146Z"
   },
   {
    "duration": 3,
    "start_time": "2024-11-16T18:59:33.558Z"
   },
   {
    "duration": 3,
    "start_time": "2024-11-16T18:59:49.360Z"
   },
   {
    "duration": 2,
    "start_time": "2024-11-16T18:59:55.845Z"
   },
   {
    "duration": 4,
    "start_time": "2024-11-16T19:00:17.129Z"
   },
   {
    "duration": 14,
    "start_time": "2024-11-16T19:05:56.045Z"
   },
   {
    "duration": 347,
    "start_time": "2024-11-16T19:06:20.160Z"
   },
   {
    "duration": 6,
    "start_time": "2024-11-16T19:06:32.471Z"
   },
   {
    "duration": 5,
    "start_time": "2024-11-16T19:06:52.010Z"
   },
   {
    "duration": 7,
    "start_time": "2024-11-16T19:20:57.250Z"
   },
   {
    "duration": 5,
    "start_time": "2024-11-16T19:20:57.853Z"
   },
   {
    "duration": 8,
    "start_time": "2024-11-16T19:21:22.384Z"
   },
   {
    "duration": 8,
    "start_time": "2024-11-16T19:21:54.540Z"
   },
   {
    "duration": 7,
    "start_time": "2024-11-16T19:22:46.282Z"
   },
   {
    "duration": 6,
    "start_time": "2024-11-16T19:40:33.619Z"
   },
   {
    "duration": 802,
    "start_time": "2024-11-16T19:55:39.349Z"
   },
   {
    "duration": 24,
    "start_time": "2024-11-16T19:55:40.154Z"
   },
   {
    "duration": 11,
    "start_time": "2024-11-16T19:55:40.179Z"
   },
   {
    "duration": 10,
    "start_time": "2024-11-16T19:55:40.192Z"
   },
   {
    "duration": 26,
    "start_time": "2024-11-16T19:55:40.205Z"
   },
   {
    "duration": 6,
    "start_time": "2024-11-16T19:55:40.232Z"
   },
   {
    "duration": 5,
    "start_time": "2024-11-16T19:55:40.239Z"
   },
   {
    "duration": 6,
    "start_time": "2024-11-16T19:55:40.246Z"
   },
   {
    "duration": 4,
    "start_time": "2024-11-16T19:55:40.253Z"
   },
   {
    "duration": 9,
    "start_time": "2024-11-16T19:55:40.258Z"
   },
   {
    "duration": 10,
    "start_time": "2024-11-16T19:55:40.268Z"
   },
   {
    "duration": 47,
    "start_time": "2024-11-16T19:55:40.279Z"
   },
   {
    "duration": 6,
    "start_time": "2024-11-16T19:55:40.328Z"
   },
   {
    "duration": 1619,
    "start_time": "2024-11-16T19:55:40.337Z"
   },
   {
    "duration": 5,
    "start_time": "2024-11-16T19:55:41.958Z"
   },
   {
    "duration": 10,
    "start_time": "2024-11-16T19:55:41.965Z"
   },
   {
    "duration": 4,
    "start_time": "2024-11-16T19:55:41.977Z"
   },
   {
    "duration": 6,
    "start_time": "2024-11-16T19:55:41.983Z"
   },
   {
    "duration": 15,
    "start_time": "2024-11-16T19:55:41.991Z"
   },
   {
    "duration": 334,
    "start_time": "2024-11-16T19:55:42.007Z"
   },
   {
    "duration": 9,
    "start_time": "2024-11-16T19:55:42.343Z"
   },
   {
    "duration": 5,
    "start_time": "2024-11-16T19:55:42.354Z"
   },
   {
    "duration": 0,
    "start_time": "2024-11-16T19:55:42.360Z"
   },
   {
    "duration": 0,
    "start_time": "2024-11-16T19:55:42.362Z"
   },
   {
    "duration": 0,
    "start_time": "2024-11-16T19:55:42.364Z"
   },
   {
    "duration": 0,
    "start_time": "2024-11-16T19:55:42.365Z"
   },
   {
    "duration": 2835,
    "start_time": "2024-11-16T21:24:27.455Z"
   },
   {
    "duration": 35,
    "start_time": "2024-11-16T21:24:30.292Z"
   },
   {
    "duration": 12,
    "start_time": "2024-11-16T21:24:30.328Z"
   },
   {
    "duration": 13,
    "start_time": "2024-11-16T21:24:30.342Z"
   },
   {
    "duration": 12,
    "start_time": "2024-11-16T21:24:30.358Z"
   },
   {
    "duration": 6,
    "start_time": "2024-11-16T21:24:30.372Z"
   },
   {
    "duration": 5,
    "start_time": "2024-11-16T21:24:30.380Z"
   },
   {
    "duration": 6,
    "start_time": "2024-11-16T21:24:30.387Z"
   },
   {
    "duration": 34,
    "start_time": "2024-11-16T21:24:30.394Z"
   },
   {
    "duration": 11,
    "start_time": "2024-11-16T21:24:30.430Z"
   },
   {
    "duration": 14,
    "start_time": "2024-11-16T21:24:30.443Z"
   },
   {
    "duration": 8,
    "start_time": "2024-11-16T21:24:30.459Z"
   },
   {
    "duration": 7,
    "start_time": "2024-11-16T21:24:30.469Z"
   },
   {
    "duration": 1784,
    "start_time": "2024-11-16T21:24:30.480Z"
   },
   {
    "duration": 7,
    "start_time": "2024-11-16T21:24:32.266Z"
   },
   {
    "duration": 11,
    "start_time": "2024-11-16T21:24:32.275Z"
   },
   {
    "duration": 4,
    "start_time": "2024-11-16T21:24:32.288Z"
   },
   {
    "duration": 7,
    "start_time": "2024-11-16T21:24:32.294Z"
   },
   {
    "duration": 25,
    "start_time": "2024-11-16T21:24:32.303Z"
   },
   {
    "duration": 379,
    "start_time": "2024-11-16T21:24:32.329Z"
   },
   {
    "duration": 18,
    "start_time": "2024-11-16T21:24:32.710Z"
   },
   {
    "duration": 9,
    "start_time": "2024-11-16T21:24:32.730Z"
   },
   {
    "duration": 0,
    "start_time": "2024-11-16T21:24:32.741Z"
   },
   {
    "duration": 0,
    "start_time": "2024-11-16T21:24:32.743Z"
   },
   {
    "duration": 0,
    "start_time": "2024-11-16T21:24:32.744Z"
   },
   {
    "duration": 0,
    "start_time": "2024-11-16T21:24:32.747Z"
   },
   {
    "duration": 2579,
    "start_time": "2024-11-20T23:23:09.128Z"
   },
   {
    "duration": 35,
    "start_time": "2024-11-20T23:23:11.709Z"
   },
   {
    "duration": 10,
    "start_time": "2024-11-20T23:23:11.746Z"
   },
   {
    "duration": 10,
    "start_time": "2024-11-20T23:23:11.758Z"
   },
   {
    "duration": 12,
    "start_time": "2024-11-20T23:23:11.770Z"
   },
   {
    "duration": 6,
    "start_time": "2024-11-20T23:23:11.783Z"
   },
   {
    "duration": 5,
    "start_time": "2024-11-20T23:23:11.792Z"
   },
   {
    "duration": 29,
    "start_time": "2024-11-20T23:23:11.799Z"
   },
   {
    "duration": 4,
    "start_time": "2024-11-20T23:23:11.830Z"
   },
   {
    "duration": 8,
    "start_time": "2024-11-20T23:23:11.836Z"
   },
   {
    "duration": 10,
    "start_time": "2024-11-20T23:23:11.846Z"
   },
   {
    "duration": 7,
    "start_time": "2024-11-20T23:23:11.857Z"
   },
   {
    "duration": 6,
    "start_time": "2024-11-20T23:23:11.866Z"
   },
   {
    "duration": 1628,
    "start_time": "2024-11-20T23:23:11.876Z"
   },
   {
    "duration": 5,
    "start_time": "2024-11-20T23:23:13.506Z"
   },
   {
    "duration": 10,
    "start_time": "2024-11-20T23:23:13.513Z"
   },
   {
    "duration": 4,
    "start_time": "2024-11-20T23:23:13.524Z"
   },
   {
    "duration": 7,
    "start_time": "2024-11-20T23:23:13.530Z"
   },
   {
    "duration": 128,
    "start_time": "2024-11-20T23:23:13.538Z"
   },
   {
    "duration": 345,
    "start_time": "2024-11-20T23:23:13.668Z"
   },
   {
    "duration": 14,
    "start_time": "2024-11-20T23:23:14.016Z"
   },
   {
    "duration": 7,
    "start_time": "2024-11-20T23:23:14.031Z"
   },
   {
    "duration": 0,
    "start_time": "2024-11-20T23:23:14.040Z"
   },
   {
    "duration": 0,
    "start_time": "2024-11-20T23:23:14.041Z"
   },
   {
    "duration": 0,
    "start_time": "2024-11-20T23:23:14.042Z"
   },
   {
    "duration": 0,
    "start_time": "2024-11-20T23:23:14.044Z"
   },
   {
    "duration": 22,
    "start_time": "2024-11-20T23:23:39.817Z"
   },
   {
    "duration": 21,
    "start_time": "2024-11-20T23:24:01.564Z"
   },
   {
    "duration": 362,
    "start_time": "2024-11-20T23:24:28.518Z"
   },
   {
    "duration": 840,
    "start_time": "2024-11-21T04:29:06.320Z"
   },
   {
    "duration": 36,
    "start_time": "2024-11-21T04:29:07.162Z"
   },
   {
    "duration": 11,
    "start_time": "2024-11-21T04:29:07.200Z"
   },
   {
    "duration": 11,
    "start_time": "2024-11-21T04:29:07.213Z"
   },
   {
    "duration": 18,
    "start_time": "2024-11-21T04:29:07.227Z"
   },
   {
    "duration": 5,
    "start_time": "2024-11-21T04:29:07.247Z"
   },
   {
    "duration": 6,
    "start_time": "2024-11-21T04:29:07.255Z"
   },
   {
    "duration": 6,
    "start_time": "2024-11-21T04:29:07.263Z"
   },
   {
    "duration": 4,
    "start_time": "2024-11-21T04:29:07.270Z"
   },
   {
    "duration": 9,
    "start_time": "2024-11-21T04:29:07.276Z"
   },
   {
    "duration": 12,
    "start_time": "2024-11-21T04:29:07.286Z"
   },
   {
    "duration": 48,
    "start_time": "2024-11-21T04:29:07.300Z"
   },
   {
    "duration": 8,
    "start_time": "2024-11-21T04:29:07.350Z"
   },
   {
    "duration": 1732,
    "start_time": "2024-11-21T04:29:07.362Z"
   },
   {
    "duration": 5,
    "start_time": "2024-11-21T04:29:09.096Z"
   },
   {
    "duration": 11,
    "start_time": "2024-11-21T04:29:09.102Z"
   },
   {
    "duration": 5,
    "start_time": "2024-11-21T04:29:09.115Z"
   },
   {
    "duration": 9,
    "start_time": "2024-11-21T04:29:09.143Z"
   },
   {
    "duration": 15,
    "start_time": "2024-11-21T04:29:09.154Z"
   },
   {
    "duration": 380,
    "start_time": "2024-11-21T04:29:09.171Z"
   },
   {
    "duration": 10,
    "start_time": "2024-11-21T04:29:09.553Z"
   },
   {
    "duration": 396,
    "start_time": "2024-11-21T04:29:09.565Z"
   },
   {
    "duration": 23,
    "start_time": "2024-11-21T04:29:09.964Z"
   },
   {
    "duration": 23,
    "start_time": "2024-11-21T04:29:09.989Z"
   },
   {
    "duration": 31,
    "start_time": "2024-11-21T04:29:10.014Z"
   },
   {
    "duration": 7,
    "start_time": "2024-11-21T04:29:10.047Z"
   },
   {
    "duration": 2549,
    "start_time": "2024-11-23T21:24:14.465Z"
   },
   {
    "duration": 33,
    "start_time": "2024-11-23T21:24:17.017Z"
   },
   {
    "duration": 10,
    "start_time": "2024-11-23T21:24:17.052Z"
   },
   {
    "duration": 14,
    "start_time": "2024-11-23T21:24:17.065Z"
   },
   {
    "duration": 11,
    "start_time": "2024-11-23T21:24:17.080Z"
   },
   {
    "duration": 243,
    "start_time": "2024-11-23T21:24:17.092Z"
   },
   {
    "duration": 0,
    "start_time": "2024-11-23T21:24:17.338Z"
   },
   {
    "duration": 0,
    "start_time": "2024-11-23T21:24:17.340Z"
   },
   {
    "duration": 0,
    "start_time": "2024-11-23T21:24:17.341Z"
   },
   {
    "duration": 0,
    "start_time": "2024-11-23T21:24:17.343Z"
   },
   {
    "duration": 0,
    "start_time": "2024-11-23T21:24:17.345Z"
   },
   {
    "duration": 0,
    "start_time": "2024-11-23T21:24:17.346Z"
   },
   {
    "duration": 0,
    "start_time": "2024-11-23T21:24:17.348Z"
   },
   {
    "duration": 0,
    "start_time": "2024-11-23T21:24:17.349Z"
   },
   {
    "duration": 0,
    "start_time": "2024-11-23T21:24:17.351Z"
   },
   {
    "duration": 0,
    "start_time": "2024-11-23T21:24:17.352Z"
   },
   {
    "duration": 1,
    "start_time": "2024-11-23T21:24:17.369Z"
   },
   {
    "duration": 0,
    "start_time": "2024-11-23T21:24:17.371Z"
   },
   {
    "duration": 0,
    "start_time": "2024-11-23T21:24:17.371Z"
   },
   {
    "duration": 0,
    "start_time": "2024-11-23T21:24:17.372Z"
   },
   {
    "duration": 0,
    "start_time": "2024-11-23T21:24:17.374Z"
   },
   {
    "duration": 0,
    "start_time": "2024-11-23T21:24:17.374Z"
   },
   {
    "duration": 0,
    "start_time": "2024-11-23T21:24:17.376Z"
   },
   {
    "duration": 0,
    "start_time": "2024-11-23T21:24:17.376Z"
   },
   {
    "duration": 0,
    "start_time": "2024-11-23T21:24:17.378Z"
   },
   {
    "duration": 0,
    "start_time": "2024-11-23T21:24:17.379Z"
   },
   {
    "duration": 8,
    "start_time": "2024-11-23T21:24:35.487Z"
   },
   {
    "duration": 8,
    "start_time": "2024-11-23T21:26:41.561Z"
   },
   {
    "duration": 7,
    "start_time": "2024-11-23T21:30:37.227Z"
   },
   {
    "duration": 8,
    "start_time": "2024-11-23T21:32:12.769Z"
   },
   {
    "duration": 8,
    "start_time": "2024-11-23T21:34:35.542Z"
   },
   {
    "duration": 19,
    "start_time": "2024-11-23T21:39:42.256Z"
   },
   {
    "duration": 8,
    "start_time": "2024-11-23T21:39:56.784Z"
   },
   {
    "duration": 285,
    "start_time": "2024-11-23T21:39:59.887Z"
   },
   {
    "duration": 169,
    "start_time": "2024-11-23T21:41:07.861Z"
   },
   {
    "duration": 816,
    "start_time": "2024-11-23T21:41:24.781Z"
   },
   {
    "duration": 24,
    "start_time": "2024-11-23T21:41:25.600Z"
   },
   {
    "duration": 10,
    "start_time": "2024-11-23T21:41:25.625Z"
   },
   {
    "duration": 10,
    "start_time": "2024-11-23T21:41:25.637Z"
   },
   {
    "duration": 24,
    "start_time": "2024-11-23T21:41:25.650Z"
   },
   {
    "duration": 7,
    "start_time": "2024-11-23T21:41:25.675Z"
   },
   {
    "duration": 4,
    "start_time": "2024-11-23T21:41:25.684Z"
   },
   {
    "duration": 6,
    "start_time": "2024-11-23T21:41:25.690Z"
   },
   {
    "duration": 3,
    "start_time": "2024-11-23T21:41:25.698Z"
   },
   {
    "duration": 7,
    "start_time": "2024-11-23T21:41:25.703Z"
   },
   {
    "duration": 12,
    "start_time": "2024-11-23T21:41:25.711Z"
   },
   {
    "duration": 48,
    "start_time": "2024-11-23T21:41:25.724Z"
   },
   {
    "duration": 7,
    "start_time": "2024-11-23T21:41:25.774Z"
   },
   {
    "duration": 294,
    "start_time": "2024-11-23T21:41:25.783Z"
   },
   {
    "duration": 8,
    "start_time": "2024-11-23T21:41:26.079Z"
   },
   {
    "duration": 782,
    "start_time": "2024-11-23T21:41:26.088Z"
   },
   {
    "duration": 7,
    "start_time": "2024-11-23T21:41:26.872Z"
   },
   {
    "duration": 13,
    "start_time": "2024-11-23T21:41:26.880Z"
   },
   {
    "duration": 4,
    "start_time": "2024-11-23T21:41:26.894Z"
   },
   {
    "duration": 7,
    "start_time": "2024-11-23T21:41:26.899Z"
   },
   {
    "duration": 14,
    "start_time": "2024-11-23T21:41:26.907Z"
   },
   {
    "duration": 343,
    "start_time": "2024-11-23T21:41:26.922Z"
   },
   {
    "duration": 8,
    "start_time": "2024-11-23T21:41:27.269Z"
   },
   {
    "duration": 345,
    "start_time": "2024-11-23T21:41:27.279Z"
   },
   {
    "duration": 16,
    "start_time": "2024-11-23T21:41:27.626Z"
   },
   {
    "duration": 36,
    "start_time": "2024-11-23T21:41:27.644Z"
   },
   {
    "duration": 6,
    "start_time": "2024-11-23T21:41:27.682Z"
   },
   {
    "duration": 6,
    "start_time": "2024-11-23T21:41:27.690Z"
   },
   {
    "duration": 3,
    "start_time": "2024-11-23T21:44:04.077Z"
   },
   {
    "duration": 3,
    "start_time": "2024-11-23T21:44:27.860Z"
   },
   {
    "duration": 4,
    "start_time": "2024-11-23T21:45:51.511Z"
   },
   {
    "duration": 8,
    "start_time": "2024-11-23T21:47:34.697Z"
   },
   {
    "duration": 9,
    "start_time": "2024-11-23T21:47:51.725Z"
   },
   {
    "duration": 212,
    "start_time": "2024-11-23T21:48:03.350Z"
   },
   {
    "duration": 325,
    "start_time": "2024-11-23T21:50:04.224Z"
   },
   {
    "duration": 324,
    "start_time": "2024-11-23T21:51:10.361Z"
   },
   {
    "duration": 210,
    "start_time": "2024-11-23T22:04:13.810Z"
   },
   {
    "duration": 210,
    "start_time": "2024-11-23T22:06:21.685Z"
   },
   {
    "duration": 199,
    "start_time": "2024-11-23T22:06:34.115Z"
   },
   {
    "duration": 202,
    "start_time": "2024-11-23T22:06:48.079Z"
   },
   {
    "duration": 213,
    "start_time": "2024-11-23T22:06:58.222Z"
   },
   {
    "duration": 283,
    "start_time": "2024-11-23T22:07:04.781Z"
   },
   {
    "duration": 211,
    "start_time": "2024-11-23T22:07:11.373Z"
   },
   {
    "duration": 256,
    "start_time": "2024-11-23T22:09:59.433Z"
   },
   {
    "duration": 223,
    "start_time": "2024-11-23T22:10:10.606Z"
   },
   {
    "duration": 888,
    "start_time": "2024-11-23T22:10:26.174Z"
   },
   {
    "duration": 5,
    "start_time": "2024-11-23T22:10:38.980Z"
   },
   {
    "duration": 442,
    "start_time": "2024-11-23T22:10:44.457Z"
   },
   {
    "duration": 311,
    "start_time": "2024-11-23T22:13:05.962Z"
   },
   {
    "duration": 358,
    "start_time": "2024-11-23T22:13:18.745Z"
   },
   {
    "duration": 7,
    "start_time": "2024-11-23T22:36:12.230Z"
   },
   {
    "duration": 8,
    "start_time": "2024-11-23T22:36:19.124Z"
   },
   {
    "duration": 8,
    "start_time": "2024-11-23T22:52:46.588Z"
   },
   {
    "duration": 194,
    "start_time": "2024-11-23T22:54:10.935Z"
   },
   {
    "duration": 146,
    "start_time": "2024-11-23T22:55:25.586Z"
   },
   {
    "duration": 323,
    "start_time": "2024-11-23T22:59:11.630Z"
   },
   {
    "duration": 110,
    "start_time": "2024-11-23T23:02:09.460Z"
   },
   {
    "duration": 138,
    "start_time": "2024-11-23T23:05:21.561Z"
   },
   {
    "duration": 506,
    "start_time": "2024-11-23T23:22:32.469Z"
   },
   {
    "duration": 439,
    "start_time": "2024-11-23T23:23:36.953Z"
   },
   {
    "duration": 792,
    "start_time": "2024-11-23T23:32:43.760Z"
   },
   {
    "duration": 28,
    "start_time": "2024-11-23T23:32:44.553Z"
   },
   {
    "duration": 11,
    "start_time": "2024-11-23T23:32:44.582Z"
   },
   {
    "duration": 11,
    "start_time": "2024-11-23T23:32:44.594Z"
   },
   {
    "duration": 9,
    "start_time": "2024-11-23T23:32:44.608Z"
   },
   {
    "duration": 7,
    "start_time": "2024-11-23T23:32:44.619Z"
   },
   {
    "duration": 4,
    "start_time": "2024-11-23T23:32:44.628Z"
   },
   {
    "duration": 37,
    "start_time": "2024-11-23T23:32:44.633Z"
   },
   {
    "duration": 3,
    "start_time": "2024-11-23T23:32:44.671Z"
   },
   {
    "duration": 7,
    "start_time": "2024-11-23T23:32:44.677Z"
   },
   {
    "duration": 11,
    "start_time": "2024-11-23T23:32:44.685Z"
   },
   {
    "duration": 8,
    "start_time": "2024-11-23T23:32:44.697Z"
   },
   {
    "duration": 7,
    "start_time": "2024-11-23T23:32:44.706Z"
   },
   {
    "duration": 327,
    "start_time": "2024-11-23T23:32:44.715Z"
   },
   {
    "duration": 7,
    "start_time": "2024-11-23T23:32:45.044Z"
   },
   {
    "duration": 721,
    "start_time": "2024-11-23T23:32:45.053Z"
   },
   {
    "duration": 4,
    "start_time": "2024-11-23T23:32:45.776Z"
   },
   {
    "duration": 8,
    "start_time": "2024-11-23T23:32:45.782Z"
   },
   {
    "duration": 3,
    "start_time": "2024-11-23T23:32:45.792Z"
   },
   {
    "duration": 6,
    "start_time": "2024-11-23T23:32:45.797Z"
   },
   {
    "duration": 9,
    "start_time": "2024-11-23T23:32:45.804Z"
   },
   {
    "duration": 436,
    "start_time": "2024-11-23T23:32:45.814Z"
   },
   {
    "duration": 8,
    "start_time": "2024-11-23T23:32:46.252Z"
   },
   {
    "duration": 234,
    "start_time": "2024-11-23T23:32:46.261Z"
   },
   {
    "duration": 0,
    "start_time": "2024-11-23T23:32:46.497Z"
   },
   {
    "duration": 0,
    "start_time": "2024-11-23T23:32:46.498Z"
   },
   {
    "duration": 0,
    "start_time": "2024-11-23T23:32:46.500Z"
   },
   {
    "duration": 0,
    "start_time": "2024-11-23T23:32:46.501Z"
   },
   {
    "duration": 0,
    "start_time": "2024-11-23T23:32:46.503Z"
   },
   {
    "duration": 22,
    "start_time": "2024-11-23T23:32:53.345Z"
   },
   {
    "duration": 523,
    "start_time": "2024-11-23T23:32:56.264Z"
   },
   {
    "duration": 14,
    "start_time": "2024-11-23T23:33:40.352Z"
   },
   {
    "duration": 8,
    "start_time": "2024-11-23T23:33:53.921Z"
   },
   {
    "duration": 9,
    "start_time": "2024-11-23T23:33:59.709Z"
   },
   {
    "duration": 2478,
    "start_time": "2024-11-24T09:44:22.777Z"
   },
   {
    "duration": 36,
    "start_time": "2024-11-24T09:44:25.257Z"
   },
   {
    "duration": 10,
    "start_time": "2024-11-24T09:44:25.295Z"
   },
   {
    "duration": 17,
    "start_time": "2024-11-24T09:44:25.307Z"
   },
   {
    "duration": 9,
    "start_time": "2024-11-24T09:44:25.325Z"
   },
   {
    "duration": 8,
    "start_time": "2024-11-24T09:44:25.336Z"
   },
   {
    "duration": 5,
    "start_time": "2024-11-24T09:44:25.345Z"
   },
   {
    "duration": 6,
    "start_time": "2024-11-24T09:44:25.351Z"
   },
   {
    "duration": 2,
    "start_time": "2024-11-24T09:44:25.359Z"
   },
   {
    "duration": 7,
    "start_time": "2024-11-24T09:44:25.366Z"
   },
   {
    "duration": 49,
    "start_time": "2024-11-24T09:44:25.375Z"
   },
   {
    "duration": 8,
    "start_time": "2024-11-24T09:44:25.425Z"
   },
   {
    "duration": 6,
    "start_time": "2024-11-24T09:44:25.435Z"
   },
   {
    "duration": 286,
    "start_time": "2024-11-24T09:44:25.442Z"
   },
   {
    "duration": 7,
    "start_time": "2024-11-24T09:44:25.729Z"
   },
   {
    "duration": 703,
    "start_time": "2024-11-24T09:44:25.738Z"
   },
   {
    "duration": 5,
    "start_time": "2024-11-24T09:44:26.443Z"
   },
   {
    "duration": 9,
    "start_time": "2024-11-24T09:44:26.450Z"
   },
   {
    "duration": 3,
    "start_time": "2024-11-24T09:44:26.461Z"
   },
   {
    "duration": 6,
    "start_time": "2024-11-24T09:44:26.466Z"
   },
   {
    "duration": 9,
    "start_time": "2024-11-24T09:44:26.473Z"
   },
   {
    "duration": 440,
    "start_time": "2024-11-24T09:44:26.484Z"
   },
   {
    "duration": 8,
    "start_time": "2024-11-24T09:44:26.926Z"
   },
   {
    "duration": 7,
    "start_time": "2024-11-24T09:44:26.936Z"
   },
   {
    "duration": 234,
    "start_time": "2024-11-24T09:44:26.945Z"
   },
   {
    "duration": 0,
    "start_time": "2024-11-24T09:44:27.180Z"
   },
   {
    "duration": 0,
    "start_time": "2024-11-24T09:44:27.182Z"
   },
   {
    "duration": 0,
    "start_time": "2024-11-24T09:44:27.184Z"
   },
   {
    "duration": 0,
    "start_time": "2024-11-24T09:44:27.184Z"
   },
   {
    "duration": 18,
    "start_time": "2024-11-24T09:46:01.966Z"
   },
   {
    "duration": 17,
    "start_time": "2024-11-24T09:46:16.760Z"
   },
   {
    "duration": 168,
    "start_time": "2024-11-27T20:33:46.575Z"
   },
   {
    "duration": 831,
    "start_time": "2024-11-27T20:59:58.548Z"
   },
   {
    "duration": 2062,
    "start_time": "2024-11-27T21:00:32.823Z"
   },
   {
    "duration": 46,
    "start_time": "2024-11-27T21:00:42.006Z"
   },
   {
    "duration": 36,
    "start_time": "2024-11-27T21:00:50.976Z"
   },
   {
    "duration": 423,
    "start_time": "2024-11-27T21:00:55.732Z"
   },
   {
    "duration": 10,
    "start_time": "2024-11-27T21:01:48.213Z"
   },
   {
    "duration": 11,
    "start_time": "2024-11-27T21:01:51.606Z"
   },
   {
    "duration": 121,
    "start_time": "2024-11-27T21:01:54.948Z"
   },
   {
    "duration": 5,
    "start_time": "2024-11-27T21:02:41.495Z"
   },
   {
    "duration": 983,
    "start_time": "2024-11-27T21:09:18.715Z"
   },
   {
    "duration": 32,
    "start_time": "2024-11-27T21:09:19.701Z"
   },
   {
    "duration": 11,
    "start_time": "2024-11-27T21:09:19.735Z"
   },
   {
    "duration": 15,
    "start_time": "2024-11-27T21:09:19.748Z"
   },
   {
    "duration": 13,
    "start_time": "2024-11-27T21:09:19.765Z"
   },
   {
    "duration": 5,
    "start_time": "2024-11-27T21:09:19.781Z"
   },
   {
    "duration": 8,
    "start_time": "2024-11-27T21:09:19.788Z"
   },
   {
    "duration": 36,
    "start_time": "2024-11-27T21:09:19.798Z"
   },
   {
    "duration": 2,
    "start_time": "2024-11-27T21:09:19.838Z"
   },
   {
    "duration": 8,
    "start_time": "2024-11-27T21:09:19.842Z"
   },
   {
    "duration": 10,
    "start_time": "2024-11-27T21:09:19.852Z"
   },
   {
    "duration": 8,
    "start_time": "2024-11-27T21:09:19.864Z"
   },
   {
    "duration": 6,
    "start_time": "2024-11-27T21:09:19.873Z"
   },
   {
    "duration": 325,
    "start_time": "2024-11-27T21:09:19.881Z"
   },
   {
    "duration": 8,
    "start_time": "2024-11-27T21:09:20.208Z"
   },
   {
    "duration": 688,
    "start_time": "2024-11-27T21:09:20.230Z"
   },
   {
    "duration": 12,
    "start_time": "2024-11-27T21:09:20.920Z"
   },
   {
    "duration": 9,
    "start_time": "2024-11-27T21:09:20.933Z"
   },
   {
    "duration": 3,
    "start_time": "2024-11-27T21:09:20.944Z"
   },
   {
    "duration": 7,
    "start_time": "2024-11-27T21:09:20.948Z"
   },
   {
    "duration": 9,
    "start_time": "2024-11-27T21:09:20.956Z"
   },
   {
    "duration": 258,
    "start_time": "2024-11-27T21:09:20.967Z"
   },
   {
    "duration": 10,
    "start_time": "2024-11-27T21:09:21.227Z"
   },
   {
    "duration": 8,
    "start_time": "2024-11-27T21:09:21.239Z"
   },
   {
    "duration": 341,
    "start_time": "2024-11-27T21:09:21.248Z"
   },
   {
    "duration": 0,
    "start_time": "2024-11-27T21:09:21.592Z"
   },
   {
    "duration": 0,
    "start_time": "2024-11-27T21:09:21.593Z"
   },
   {
    "duration": 0,
    "start_time": "2024-11-27T21:09:21.594Z"
   },
   {
    "duration": 0,
    "start_time": "2024-11-27T21:09:21.595Z"
   },
   {
    "duration": 3,
    "start_time": "2024-11-27T21:09:51.829Z"
   },
   {
    "duration": 31,
    "start_time": "2024-11-27T21:09:53.852Z"
   },
   {
    "duration": 14,
    "start_time": "2024-11-27T21:10:01.957Z"
   },
   {
    "duration": 11,
    "start_time": "2024-11-27T21:10:04.545Z"
   },
   {
    "duration": 427,
    "start_time": "2024-11-27T21:10:07.300Z"
   },
   {
    "duration": 13,
    "start_time": "2024-11-27T21:10:21.211Z"
   },
   {
    "duration": 14,
    "start_time": "2024-11-27T21:10:23.989Z"
   },
   {
    "duration": 3,
    "start_time": "2024-11-27T21:10:34.992Z"
   },
   {
    "duration": 22,
    "start_time": "2024-11-27T21:10:36.812Z"
   },
   {
    "duration": 10,
    "start_time": "2024-11-27T21:10:38.159Z"
   },
   {
    "duration": 11,
    "start_time": "2024-11-27T21:10:41.689Z"
   },
   {
    "duration": 11,
    "start_time": "2024-11-27T21:10:44.562Z"
   },
   {
    "duration": 10,
    "start_time": "2024-11-27T21:10:47.521Z"
   },
   {
    "duration": 6,
    "start_time": "2024-11-27T21:10:50.729Z"
   },
   {
    "duration": 125,
    "start_time": "2024-11-27T21:20:16.131Z"
   },
   {
    "duration": 24,
    "start_time": "2024-11-27T21:23:29.834Z"
   },
   {
    "duration": 166,
    "start_time": "2024-11-27T21:23:43.774Z"
   },
   {
    "duration": 791,
    "start_time": "2024-11-27T21:23:55.312Z"
   },
   {
    "duration": 26,
    "start_time": "2024-11-27T21:23:56.105Z"
   },
   {
    "duration": 10,
    "start_time": "2024-11-27T21:23:56.133Z"
   },
   {
    "duration": 10,
    "start_time": "2024-11-27T21:23:56.146Z"
   },
   {
    "duration": 10,
    "start_time": "2024-11-27T21:23:56.157Z"
   },
   {
    "duration": 5,
    "start_time": "2024-11-27T21:23:56.169Z"
   },
   {
    "duration": 7,
    "start_time": "2024-11-27T21:23:56.175Z"
   },
   {
    "duration": 7,
    "start_time": "2024-11-27T21:23:56.184Z"
   },
   {
    "duration": 3,
    "start_time": "2024-11-27T21:23:56.192Z"
   },
   {
    "duration": 8,
    "start_time": "2024-11-27T21:23:56.233Z"
   },
   {
    "duration": 10,
    "start_time": "2024-11-27T21:23:56.243Z"
   },
   {
    "duration": 7,
    "start_time": "2024-11-27T21:23:56.255Z"
   },
   {
    "duration": 6,
    "start_time": "2024-11-27T21:23:56.264Z"
   },
   {
    "duration": 335,
    "start_time": "2024-11-27T21:23:56.272Z"
   },
   {
    "duration": 8,
    "start_time": "2024-11-27T21:23:56.609Z"
   },
   {
    "duration": 730,
    "start_time": "2024-11-27T21:23:56.618Z"
   },
   {
    "duration": 5,
    "start_time": "2024-11-27T21:23:57.350Z"
   },
   {
    "duration": 9,
    "start_time": "2024-11-27T21:23:57.356Z"
   },
   {
    "duration": 4,
    "start_time": "2024-11-27T21:23:57.367Z"
   },
   {
    "duration": 8,
    "start_time": "2024-11-27T21:23:57.372Z"
   },
   {
    "duration": 10,
    "start_time": "2024-11-27T21:23:57.382Z"
   },
   {
    "duration": 261,
    "start_time": "2024-11-27T21:23:57.393Z"
   },
   {
    "duration": 16,
    "start_time": "2024-11-27T21:23:57.656Z"
   },
   {
    "duration": 9,
    "start_time": "2024-11-27T21:23:57.674Z"
   },
   {
    "duration": 136,
    "start_time": "2024-11-27T21:23:57.685Z"
   },
   {
    "duration": 27,
    "start_time": "2024-11-27T21:23:57.823Z"
   },
   {
    "duration": 475,
    "start_time": "2024-11-27T21:23:57.852Z"
   },
   {
    "duration": 8,
    "start_time": "2024-11-27T21:23:58.330Z"
   },
   {
    "duration": 7,
    "start_time": "2024-11-27T21:23:58.340Z"
   },
   {
    "duration": 2,
    "start_time": "2024-11-27T21:25:48.103Z"
   },
   {
    "duration": 21,
    "start_time": "2024-11-27T21:25:49.404Z"
   },
   {
    "duration": 9,
    "start_time": "2024-11-27T21:25:50.529Z"
   },
   {
    "duration": 12,
    "start_time": "2024-11-27T21:25:53.163Z"
   },
   {
    "duration": 9,
    "start_time": "2024-11-27T21:25:53.854Z"
   },
   {
    "duration": 5,
    "start_time": "2024-11-27T21:25:56.128Z"
   },
   {
    "duration": 6,
    "start_time": "2024-11-27T21:26:00.316Z"
   },
   {
    "duration": 7,
    "start_time": "2024-11-27T21:26:01.666Z"
   },
   {
    "duration": 3,
    "start_time": "2024-11-27T21:26:03.287Z"
   },
   {
    "duration": 8,
    "start_time": "2024-11-27T21:26:06.701Z"
   },
   {
    "duration": 11,
    "start_time": "2024-11-27T21:26:08.505Z"
   },
   {
    "duration": 8,
    "start_time": "2024-11-27T21:26:10.037Z"
   },
   {
    "duration": 8,
    "start_time": "2024-11-27T21:26:15.721Z"
   },
   {
    "duration": 274,
    "start_time": "2024-11-27T21:26:17.394Z"
   },
   {
    "duration": 8,
    "start_time": "2024-11-27T21:26:23.530Z"
   },
   {
    "duration": 755,
    "start_time": "2024-11-27T21:26:25.703Z"
   },
   {
    "duration": 5,
    "start_time": "2024-11-27T21:26:28.337Z"
   },
   {
    "duration": 11,
    "start_time": "2024-11-27T21:26:30.395Z"
   },
   {
    "duration": 4,
    "start_time": "2024-11-27T21:26:32.331Z"
   },
   {
    "duration": 7,
    "start_time": "2024-11-27T21:26:39.007Z"
   },
   {
    "duration": 11,
    "start_time": "2024-11-27T21:26:40.578Z"
   },
   {
    "duration": 222,
    "start_time": "2024-11-27T21:26:42.013Z"
   },
   {
    "duration": 8,
    "start_time": "2024-11-27T21:26:47.432Z"
   },
   {
    "duration": 8,
    "start_time": "2024-11-27T21:26:48.677Z"
   },
   {
    "duration": 119,
    "start_time": "2024-11-27T21:26:59.533Z"
   },
   {
    "duration": 21,
    "start_time": "2024-11-27T21:27:03.622Z"
   },
   {
    "duration": 416,
    "start_time": "2024-11-27T21:27:05.017Z"
   },
   {
    "duration": 8,
    "start_time": "2024-11-27T21:27:10.253Z"
   },
   {
    "duration": 8,
    "start_time": "2024-11-27T21:27:12.216Z"
   },
   {
    "duration": 790,
    "start_time": "2024-11-28T08:07:59.811Z"
   },
   {
    "duration": 34,
    "start_time": "2024-11-28T08:08:00.603Z"
   },
   {
    "duration": 11,
    "start_time": "2024-11-28T08:08:00.638Z"
   },
   {
    "duration": 10,
    "start_time": "2024-11-28T08:08:00.651Z"
   },
   {
    "duration": 9,
    "start_time": "2024-11-28T08:08:00.663Z"
   },
   {
    "duration": 5,
    "start_time": "2024-11-28T08:08:00.673Z"
   },
   {
    "duration": 5,
    "start_time": "2024-11-28T08:08:00.679Z"
   },
   {
    "duration": 7,
    "start_time": "2024-11-28T08:08:00.686Z"
   },
   {
    "duration": 3,
    "start_time": "2024-11-28T08:08:00.724Z"
   },
   {
    "duration": 7,
    "start_time": "2024-11-28T08:08:00.729Z"
   },
   {
    "duration": 10,
    "start_time": "2024-11-28T08:08:00.738Z"
   },
   {
    "duration": 8,
    "start_time": "2024-11-28T08:08:00.749Z"
   },
   {
    "duration": 6,
    "start_time": "2024-11-28T08:08:00.758Z"
   },
   {
    "duration": 331,
    "start_time": "2024-11-28T08:08:00.767Z"
   },
   {
    "duration": 7,
    "start_time": "2024-11-28T08:08:01.100Z"
   },
   {
    "duration": 717,
    "start_time": "2024-11-28T08:08:01.108Z"
   },
   {
    "duration": 4,
    "start_time": "2024-11-28T08:08:01.827Z"
   },
   {
    "duration": 8,
    "start_time": "2024-11-28T08:08:01.833Z"
   },
   {
    "duration": 3,
    "start_time": "2024-11-28T08:08:01.844Z"
   },
   {
    "duration": 7,
    "start_time": "2024-11-28T08:08:01.849Z"
   },
   {
    "duration": 9,
    "start_time": "2024-11-28T08:08:01.857Z"
   },
   {
    "duration": 261,
    "start_time": "2024-11-28T08:08:01.868Z"
   },
   {
    "duration": 7,
    "start_time": "2024-11-28T08:08:02.131Z"
   },
   {
    "duration": 7,
    "start_time": "2024-11-28T08:08:02.141Z"
   },
   {
    "duration": 136,
    "start_time": "2024-11-28T08:08:02.149Z"
   },
   {
    "duration": 21,
    "start_time": "2024-11-28T08:08:02.287Z"
   },
   {
    "duration": 433,
    "start_time": "2024-11-28T08:08:02.310Z"
   },
   {
    "duration": 7,
    "start_time": "2024-11-28T08:08:02.745Z"
   },
   {
    "duration": 6,
    "start_time": "2024-11-28T08:08:02.753Z"
   },
   {
    "duration": 18,
    "start_time": "2024-11-28T08:08:25.067Z"
   }
  ],
  "kernelspec": {
   "display_name": "Python 3",
   "language": "python",
   "name": "python3"
  },
  "language_info": {
   "codemirror_mode": {
    "name": "ipython",
    "version": 3
   },
   "file_extension": ".py",
   "mimetype": "text/x-python",
   "name": "python",
   "nbconvert_exporter": "python",
   "pygments_lexer": "ipython3",
   "version": "3.13.3"
  },
  "toc": {
   "base_numbering": 1,
   "nav_menu": {},
   "number_sections": true,
   "sideBar": true,
   "skip_h1_title": true,
   "title_cell": "Table of Contents",
   "title_sidebar": "Contents",
   "toc_cell": false,
   "toc_position": {},
   "toc_section_display": true,
   "toc_window_display": true
  }
 },
 "nbformat": 4,
 "nbformat_minor": 4
}
